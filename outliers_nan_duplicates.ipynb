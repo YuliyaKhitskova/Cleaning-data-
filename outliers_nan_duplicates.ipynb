{
 "cells": [
  {
   "cell_type": "code",
   "execution_count": 3,
   "id": "452371ab",
   "metadata": {},
   "outputs": [],
   "source": [
    "import pandas as pd\n",
    "import numpy as np\n",
    "import seaborn as sns\n",
    "import matplotlib.pyplot as plt\n",
    "from scipy import stats"
   ]
  },
  {
   "cell_type": "code",
   "execution_count": 4,
   "id": "0a6e1cba",
   "metadata": {},
   "outputs": [
    {
     "name": "stdout",
     "output_type": "stream",
     "text": [
      "Defaulting to user installation because normal site-packages is not writeable\n",
      "Requirement already satisfied: pandas in c:\\programdata\\anaconda_3\\lib\\site-packages (1.5.3)\n",
      "Requirement already satisfied: feather-format in c:\\users\\юля\\appdata\\roaming\\python\\python311\\site-packages (0.4.1)\n",
      "Requirement already satisfied: python-dateutil>=2.8.1 in c:\\programdata\\anaconda_3\\lib\\site-packages (from pandas) (2.8.2)\n",
      "Requirement already satisfied: pytz>=2020.1 in c:\\programdata\\anaconda_3\\lib\\site-packages (from pandas) (2022.7)\n",
      "Requirement already satisfied: numpy>=1.21.0 in c:\\programdata\\anaconda_3\\lib\\site-packages (from pandas) (1.24.3)\n",
      "Requirement already satisfied: pyarrow>=0.4.0 in c:\\programdata\\anaconda_3\\lib\\site-packages (from feather-format) (11.0.0)\n",
      "Requirement already satisfied: six>=1.5 in c:\\programdata\\anaconda_3\\lib\\site-packages (from python-dateutil>=2.8.1->pandas) (1.16.0)\n",
      "Note: you may need to restart the kernel to use updated packages.\n"
     ]
    }
   ],
   "source": [
    "pip install pandas feather-format"
   ]
  },
  {
   "cell_type": "code",
   "execution_count": 5,
   "id": "e0b7b80c",
   "metadata": {},
   "outputs": [],
   "source": [
    "df = pd.read_feather('test.feather')"
   ]
  },
  {
   "cell_type": "code",
   "execution_count": 6,
   "id": "c811388b",
   "metadata": {},
   "outputs": [
    {
     "data": {
      "text/html": [
       "<div>\n",
       "<style scoped>\n",
       "    .dataframe tbody tr th:only-of-type {\n",
       "        vertical-align: middle;\n",
       "    }\n",
       "\n",
       "    .dataframe tbody tr th {\n",
       "        vertical-align: top;\n",
       "    }\n",
       "\n",
       "    .dataframe thead th {\n",
       "        text-align: right;\n",
       "    }\n",
       "</style>\n",
       "<table border=\"1\" class=\"dataframe\">\n",
       "  <thead>\n",
       "    <tr style=\"text-align: right;\">\n",
       "      <th></th>\n",
       "      <th>type</th>\n",
       "      <th>msgSeqNum</th>\n",
       "      <th>exchHostTime</th>\n",
       "      <th>adapterTime</th>\n",
       "      <th>px_buy_1</th>\n",
       "      <th>amt_buy_1</th>\n",
       "      <th>px_buy_2</th>\n",
       "      <th>amt_buy_2</th>\n",
       "      <th>px_buy_3</th>\n",
       "      <th>amt_buy_3</th>\n",
       "      <th>...</th>\n",
       "      <th>px_sell_8</th>\n",
       "      <th>amt_sell_8</th>\n",
       "      <th>px_sell_9</th>\n",
       "      <th>amt_sell_9</th>\n",
       "      <th>px_sell_10</th>\n",
       "      <th>amt_sell_10</th>\n",
       "      <th>trade_px</th>\n",
       "      <th>trade_amt</th>\n",
       "      <th>trade_cnt</th>\n",
       "      <th>moreTradesInBatch</th>\n",
       "    </tr>\n",
       "  </thead>\n",
       "  <tbody>\n",
       "    <tr>\n",
       "      <th>1000</th>\n",
       "      <td>4</td>\n",
       "      <td>173525833</td>\n",
       "      <td>1596240037000000000</td>\n",
       "      <td>1596240037431704679</td>\n",
       "      <td>11357.99</td>\n",
       "      <td>20.199</td>\n",
       "      <td>11357.67</td>\n",
       "      <td>0.169</td>\n",
       "      <td>11357.5</td>\n",
       "      <td>0.062</td>\n",
       "      <td>...</td>\n",
       "      <td>11358.82</td>\n",
       "      <td>0.001</td>\n",
       "      <td>12494.7</td>\n",
       "      <td>0.063</td>\n",
       "      <td>13744.17</td>\n",
       "      <td>0.111</td>\n",
       "      <td>11358.25</td>\n",
       "      <td>0.175</td>\n",
       "      <td>0</td>\n",
       "      <td>0.0</td>\n",
       "    </tr>\n",
       "    <tr>\n",
       "      <th>1001</th>\n",
       "      <td>4</td>\n",
       "      <td>173525834</td>\n",
       "      <td>1596240037000000000</td>\n",
       "      <td>1596240037431749155</td>\n",
       "      <td>11357.99</td>\n",
       "      <td>20.199</td>\n",
       "      <td>11357.67</td>\n",
       "      <td>0.169</td>\n",
       "      <td>11357.5</td>\n",
       "      <td>0.062</td>\n",
       "      <td>...</td>\n",
       "      <td>11358.82</td>\n",
       "      <td>0.001</td>\n",
       "      <td>12494.7</td>\n",
       "      <td>0.063</td>\n",
       "      <td>13744.17</td>\n",
       "      <td>0.111</td>\n",
       "      <td>11358.26</td>\n",
       "      <td>2.000</td>\n",
       "      <td>0</td>\n",
       "      <td>0.0</td>\n",
       "    </tr>\n",
       "    <tr>\n",
       "      <th>1002</th>\n",
       "      <td>4</td>\n",
       "      <td>122537841</td>\n",
       "      <td>1596240037000000000</td>\n",
       "      <td>1596240037431776197</td>\n",
       "      <td>11357.99</td>\n",
       "      <td>20.199</td>\n",
       "      <td>11357.67</td>\n",
       "      <td>0.169</td>\n",
       "      <td>11357.5</td>\n",
       "      <td>0.062</td>\n",
       "      <td>...</td>\n",
       "      <td>11358.82</td>\n",
       "      <td>0.001</td>\n",
       "      <td>12494.7</td>\n",
       "      <td>0.063</td>\n",
       "      <td>13744.17</td>\n",
       "      <td>0.111</td>\n",
       "      <td>11358.25</td>\n",
       "      <td>0.175</td>\n",
       "      <td>1</td>\n",
       "      <td>0.0</td>\n",
       "    </tr>\n",
       "    <tr>\n",
       "      <th>1003</th>\n",
       "      <td>4</td>\n",
       "      <td>122537842</td>\n",
       "      <td>1596240037000000000</td>\n",
       "      <td>1596240037431782097</td>\n",
       "      <td>11357.99</td>\n",
       "      <td>20.199</td>\n",
       "      <td>11357.67</td>\n",
       "      <td>0.169</td>\n",
       "      <td>11357.5</td>\n",
       "      <td>0.062</td>\n",
       "      <td>...</td>\n",
       "      <td>11358.82</td>\n",
       "      <td>0.001</td>\n",
       "      <td>12494.7</td>\n",
       "      <td>0.063</td>\n",
       "      <td>13744.17</td>\n",
       "      <td>0.111</td>\n",
       "      <td>11358.26</td>\n",
       "      <td>2.000</td>\n",
       "      <td>1</td>\n",
       "      <td>0.0</td>\n",
       "    </tr>\n",
       "    <tr>\n",
       "      <th>1004</th>\n",
       "      <td>4</td>\n",
       "      <td>173525835</td>\n",
       "      <td>1596240037000000000</td>\n",
       "      <td>1596240037431794710</td>\n",
       "      <td>11357.99</td>\n",
       "      <td>20.199</td>\n",
       "      <td>11357.67</td>\n",
       "      <td>0.169</td>\n",
       "      <td>11357.5</td>\n",
       "      <td>0.062</td>\n",
       "      <td>...</td>\n",
       "      <td>11358.82</td>\n",
       "      <td>0.001</td>\n",
       "      <td>12494.7</td>\n",
       "      <td>0.063</td>\n",
       "      <td>13744.17</td>\n",
       "      <td>0.111</td>\n",
       "      <td>11358.33</td>\n",
       "      <td>0.004</td>\n",
       "      <td>0</td>\n",
       "      <td>0.0</td>\n",
       "    </tr>\n",
       "  </tbody>\n",
       "</table>\n",
       "<p>5 rows × 48 columns</p>\n",
       "</div>"
      ],
      "text/plain": [
       "      type  msgSeqNum         exchHostTime          adapterTime  px_buy_1  \\\n",
       "1000     4  173525833  1596240037000000000  1596240037431704679  11357.99   \n",
       "1001     4  173525834  1596240037000000000  1596240037431749155  11357.99   \n",
       "1002     4  122537841  1596240037000000000  1596240037431776197  11357.99   \n",
       "1003     4  122537842  1596240037000000000  1596240037431782097  11357.99   \n",
       "1004     4  173525835  1596240037000000000  1596240037431794710  11357.99   \n",
       "\n",
       "      amt_buy_1  px_buy_2  amt_buy_2  px_buy_3  amt_buy_3  ...  px_sell_8  \\\n",
       "1000     20.199  11357.67      0.169   11357.5      0.062  ...   11358.82   \n",
       "1001     20.199  11357.67      0.169   11357.5      0.062  ...   11358.82   \n",
       "1002     20.199  11357.67      0.169   11357.5      0.062  ...   11358.82   \n",
       "1003     20.199  11357.67      0.169   11357.5      0.062  ...   11358.82   \n",
       "1004     20.199  11357.67      0.169   11357.5      0.062  ...   11358.82   \n",
       "\n",
       "      amt_sell_8  px_sell_9  amt_sell_9  px_sell_10  amt_sell_10  trade_px  \\\n",
       "1000       0.001    12494.7       0.063    13744.17        0.111  11358.25   \n",
       "1001       0.001    12494.7       0.063    13744.17        0.111  11358.26   \n",
       "1002       0.001    12494.7       0.063    13744.17        0.111  11358.25   \n",
       "1003       0.001    12494.7       0.063    13744.17        0.111  11358.26   \n",
       "1004       0.001    12494.7       0.063    13744.17        0.111  11358.33   \n",
       "\n",
       "      trade_amt  trade_cnt  moreTradesInBatch  \n",
       "1000      0.175          0                0.0  \n",
       "1001      2.000          0                0.0  \n",
       "1002      0.175          1                0.0  \n",
       "1003      2.000          1                0.0  \n",
       "1004      0.004          0                0.0  \n",
       "\n",
       "[5 rows x 48 columns]"
      ]
     },
     "execution_count": 6,
     "metadata": {},
     "output_type": "execute_result"
    }
   ],
   "source": [
    "df.head()"
   ]
  },
  {
   "cell_type": "code",
   "execution_count": 5,
   "id": "7b3da5e7",
   "metadata": {},
   "outputs": [
    {
     "data": {
      "text/plain": [
       "(40374, 48)"
      ]
     },
     "execution_count": 5,
     "metadata": {},
     "output_type": "execute_result"
    }
   ],
   "source": [
    "df.shape"
   ]
  },
  {
   "cell_type": "markdown",
   "id": "d74802e1",
   "metadata": {},
   "source": [
    "### Data types and duplicates"
   ]
  },
  {
   "cell_type": "code",
   "execution_count": 6,
   "id": "4eccb2ff",
   "metadata": {},
   "outputs": [
    {
     "data": {
      "text/plain": [
       "type                   int64\n",
       "msgSeqNum              int64\n",
       "exchHostTime           int64\n",
       "adapterTime            int64\n",
       "px_buy_1             float64\n",
       "amt_buy_1            float64\n",
       "px_buy_2             float64\n",
       "amt_buy_2            float64\n",
       "px_buy_3             float64\n",
       "amt_buy_3            float64\n",
       "px_buy_4             float64\n",
       "amt_buy_4            float64\n",
       "px_buy_5             float64\n",
       "amt_buy_5            float64\n",
       "px_buy_6             float64\n",
       "amt_buy_6            float64\n",
       "px_buy_7             float64\n",
       "amt_buy_7            float64\n",
       "px_buy_8             float64\n",
       "amt_buy_8            float64\n",
       "px_buy_9             float64\n",
       "amt_buy_9            float64\n",
       "px_buy_10            float64\n",
       "amt_buy_10           float64\n",
       "px_sell_1            float64\n",
       "amt_sell_1           float64\n",
       "px_sell_2            float64\n",
       "amt_sell_2           float64\n",
       "px_sell_3            float64\n",
       "amt_sell_3           float64\n",
       "px_sell_4            float64\n",
       "amt_sell_4           float64\n",
       "px_sell_5            float64\n",
       "amt_sell_5           float64\n",
       "px_sell_6            float64\n",
       "amt_sell_6           float64\n",
       "px_sell_7             object\n",
       "amt_sell_7           float64\n",
       "px_sell_8            float64\n",
       "amt_sell_8           float64\n",
       "px_sell_9            float64\n",
       "amt_sell_9           float64\n",
       "px_sell_10           float64\n",
       "amt_sell_10          float64\n",
       "trade_px             float64\n",
       "trade_amt            float64\n",
       "trade_cnt              int64\n",
       "moreTradesInBatch    float64\n",
       "dtype: object"
      ]
     },
     "execution_count": 6,
     "metadata": {},
     "output_type": "execute_result"
    }
   ],
   "source": [
    "df.dtypes"
   ]
  },
  {
   "cell_type": "code",
   "execution_count": 7,
   "id": "21f16412",
   "metadata": {},
   "outputs": [
    {
     "data": {
      "text/plain": [
       "1000    11358.35\n",
       "1001    11358.35\n",
       "1002    11358.35\n",
       "1003    11358.35\n",
       "1004    11358.35\n",
       "Name: px_sell_7, dtype: object"
      ]
     },
     "execution_count": 7,
     "metadata": {},
     "output_type": "execute_result"
    }
   ],
   "source": [
    "a = df.px_sell_7 # смотрю, что за данные в этом столбце \n",
    "a.head()"
   ]
  },
  {
   "cell_type": "code",
   "execution_count": 8,
   "id": "fa091ece",
   "metadata": {},
   "outputs": [
    {
     "data": {
      "text/plain": [
       "40274"
      ]
     },
     "execution_count": 8,
     "metadata": {},
     "output_type": "execute_result"
    }
   ],
   "source": [
    "df.msgSeqNum.nunique() # Возможно -это уникальные ID"
   ]
  },
  {
   "cell_type": "code",
   "execution_count": 9,
   "id": "0c9da109",
   "metadata": {},
   "outputs": [],
   "source": [
    "df['px_sell_7'] = df['px_sell_7'].astype(np.float64)"
   ]
  },
  {
   "cell_type": "code",
   "execution_count": 10,
   "id": "2fe744e3",
   "metadata": {
    "scrolled": true
   },
   "outputs": [
    {
     "data": {
      "text/plain": [
       "type                   int64\n",
       "msgSeqNum              int64\n",
       "exchHostTime           int64\n",
       "adapterTime            int64\n",
       "px_buy_1             float64\n",
       "amt_buy_1            float64\n",
       "px_buy_2             float64\n",
       "amt_buy_2            float64\n",
       "px_buy_3             float64\n",
       "amt_buy_3            float64\n",
       "px_buy_4             float64\n",
       "amt_buy_4            float64\n",
       "px_buy_5             float64\n",
       "amt_buy_5            float64\n",
       "px_buy_6             float64\n",
       "amt_buy_6            float64\n",
       "px_buy_7             float64\n",
       "amt_buy_7            float64\n",
       "px_buy_8             float64\n",
       "amt_buy_8            float64\n",
       "px_buy_9             float64\n",
       "amt_buy_9            float64\n",
       "px_buy_10            float64\n",
       "amt_buy_10           float64\n",
       "px_sell_1            float64\n",
       "amt_sell_1           float64\n",
       "px_sell_2            float64\n",
       "amt_sell_2           float64\n",
       "px_sell_3            float64\n",
       "amt_sell_3           float64\n",
       "px_sell_4            float64\n",
       "amt_sell_4           float64\n",
       "px_sell_5            float64\n",
       "amt_sell_5           float64\n",
       "px_sell_6            float64\n",
       "amt_sell_6           float64\n",
       "px_sell_7            float64\n",
       "amt_sell_7           float64\n",
       "px_sell_8            float64\n",
       "amt_sell_8           float64\n",
       "px_sell_9            float64\n",
       "amt_sell_9           float64\n",
       "px_sell_10           float64\n",
       "amt_sell_10          float64\n",
       "trade_px             float64\n",
       "trade_amt            float64\n",
       "trade_cnt              int64\n",
       "moreTradesInBatch    float64\n",
       "dtype: object"
      ]
     },
     "execution_count": 10,
     "metadata": {},
     "output_type": "execute_result"
    }
   ],
   "source": [
    "df.dtypes\n"
   ]
  },
  {
   "cell_type": "code",
   "execution_count": 11,
   "id": "8552d7f0",
   "metadata": {},
   "outputs": [
    {
     "data": {
      "text/html": [
       "<div>\n",
       "<style scoped>\n",
       "    .dataframe tbody tr th:only-of-type {\n",
       "        vertical-align: middle;\n",
       "    }\n",
       "\n",
       "    .dataframe tbody tr th {\n",
       "        vertical-align: top;\n",
       "    }\n",
       "\n",
       "    .dataframe thead th {\n",
       "        text-align: right;\n",
       "    }\n",
       "</style>\n",
       "<table border=\"1\" class=\"dataframe\">\n",
       "  <thead>\n",
       "    <tr style=\"text-align: right;\">\n",
       "      <th></th>\n",
       "      <th>type</th>\n",
       "      <th>msgSeqNum</th>\n",
       "      <th>exchHostTime</th>\n",
       "      <th>adapterTime</th>\n",
       "      <th>px_buy_1</th>\n",
       "      <th>amt_buy_1</th>\n",
       "      <th>px_buy_2</th>\n",
       "      <th>amt_buy_2</th>\n",
       "      <th>px_buy_3</th>\n",
       "      <th>amt_buy_3</th>\n",
       "      <th>...</th>\n",
       "      <th>px_sell_8</th>\n",
       "      <th>amt_sell_8</th>\n",
       "      <th>px_sell_9</th>\n",
       "      <th>amt_sell_9</th>\n",
       "      <th>px_sell_10</th>\n",
       "      <th>amt_sell_10</th>\n",
       "      <th>trade_px</th>\n",
       "      <th>trade_amt</th>\n",
       "      <th>trade_cnt</th>\n",
       "      <th>moreTradesInBatch</th>\n",
       "    </tr>\n",
       "  </thead>\n",
       "  <tbody>\n",
       "    <tr>\n",
       "      <th>41369</th>\n",
       "      <td>6</td>\n",
       "      <td>45258026841</td>\n",
       "      <td>1596241406000000000</td>\n",
       "      <td>1596241406563025313</td>\n",
       "      <td>11308.23</td>\n",
       "      <td>0.48</td>\n",
       "      <td>11307.86</td>\n",
       "      <td>1.009</td>\n",
       "      <td>11307.85</td>\n",
       "      <td>0.24</td>\n",
       "      <td>...</td>\n",
       "      <td>11309.87</td>\n",
       "      <td>22.000</td>\n",
       "      <td>12440.86</td>\n",
       "      <td>0.449</td>\n",
       "      <td>13684.95</td>\n",
       "      <td>1.004</td>\n",
       "      <td>0.00</td>\n",
       "      <td>0.000</td>\n",
       "      <td>0</td>\n",
       "      <td>NaN</td>\n",
       "    </tr>\n",
       "    <tr>\n",
       "      <th>41370</th>\n",
       "      <td>6</td>\n",
       "      <td>45258026853</td>\n",
       "      <td>1596241406000000000</td>\n",
       "      <td>1596241406565277457</td>\n",
       "      <td>11308.23</td>\n",
       "      <td>6.48</td>\n",
       "      <td>11307.86</td>\n",
       "      <td>1.009</td>\n",
       "      <td>11307.85</td>\n",
       "      <td>0.24</td>\n",
       "      <td>...</td>\n",
       "      <td>11309.90</td>\n",
       "      <td>0.449</td>\n",
       "      <td>12440.89</td>\n",
       "      <td>1.004</td>\n",
       "      <td>13684.98</td>\n",
       "      <td>5.265</td>\n",
       "      <td>0.00</td>\n",
       "      <td>0.000</td>\n",
       "      <td>0</td>\n",
       "      <td>NaN</td>\n",
       "    </tr>\n",
       "    <tr>\n",
       "      <th>41371</th>\n",
       "      <td>6</td>\n",
       "      <td>45258026878</td>\n",
       "      <td>1596241406000000000</td>\n",
       "      <td>1596241406567760680</td>\n",
       "      <td>11308.23</td>\n",
       "      <td>6.48</td>\n",
       "      <td>11307.85</td>\n",
       "      <td>0.240</td>\n",
       "      <td>11307.84</td>\n",
       "      <td>8.25</td>\n",
       "      <td>...</td>\n",
       "      <td>11309.90</td>\n",
       "      <td>0.449</td>\n",
       "      <td>12440.89</td>\n",
       "      <td>1.004</td>\n",
       "      <td>13684.98</td>\n",
       "      <td>5.265</td>\n",
       "      <td>0.00</td>\n",
       "      <td>0.000</td>\n",
       "      <td>0</td>\n",
       "      <td>NaN</td>\n",
       "    </tr>\n",
       "    <tr>\n",
       "      <th>41372</th>\n",
       "      <td>6</td>\n",
       "      <td>45258026892</td>\n",
       "      <td>1596241406000000000</td>\n",
       "      <td>1596241406570122673</td>\n",
       "      <td>11308.23</td>\n",
       "      <td>0.48</td>\n",
       "      <td>11307.85</td>\n",
       "      <td>0.240</td>\n",
       "      <td>11307.84</td>\n",
       "      <td>8.25</td>\n",
       "      <td>...</td>\n",
       "      <td>11309.90</td>\n",
       "      <td>0.449</td>\n",
       "      <td>12440.89</td>\n",
       "      <td>1.004</td>\n",
       "      <td>13684.98</td>\n",
       "      <td>5.265</td>\n",
       "      <td>0.00</td>\n",
       "      <td>0.000</td>\n",
       "      <td>0</td>\n",
       "      <td>NaN</td>\n",
       "    </tr>\n",
       "    <tr>\n",
       "      <th>41373</th>\n",
       "      <td>4</td>\n",
       "      <td>173543213</td>\n",
       "      <td>1596241406000000000</td>\n",
       "      <td>1596241406572315551</td>\n",
       "      <td>11308.23</td>\n",
       "      <td>0.48</td>\n",
       "      <td>11307.85</td>\n",
       "      <td>0.240</td>\n",
       "      <td>11307.84</td>\n",
       "      <td>8.25</td>\n",
       "      <td>...</td>\n",
       "      <td>11309.90</td>\n",
       "      <td>0.449</td>\n",
       "      <td>12440.89</td>\n",
       "      <td>1.004</td>\n",
       "      <td>13684.98</td>\n",
       "      <td>5.265</td>\n",
       "      <td>11308.61</td>\n",
       "      <td>-0.085</td>\n",
       "      <td>0</td>\n",
       "      <td>0.0</td>\n",
       "    </tr>\n",
       "  </tbody>\n",
       "</table>\n",
       "<p>5 rows × 48 columns</p>\n",
       "</div>"
      ],
      "text/plain": [
       "       type    msgSeqNum         exchHostTime          adapterTime  px_buy_1  \\\n",
       "41369     6  45258026841  1596241406000000000  1596241406563025313  11308.23   \n",
       "41370     6  45258026853  1596241406000000000  1596241406565277457  11308.23   \n",
       "41371     6  45258026878  1596241406000000000  1596241406567760680  11308.23   \n",
       "41372     6  45258026892  1596241406000000000  1596241406570122673  11308.23   \n",
       "41373     4    173543213  1596241406000000000  1596241406572315551  11308.23   \n",
       "\n",
       "       amt_buy_1  px_buy_2  amt_buy_2  px_buy_3  amt_buy_3  ...  px_sell_8  \\\n",
       "41369       0.48  11307.86      1.009  11307.85       0.24  ...   11309.87   \n",
       "41370       6.48  11307.86      1.009  11307.85       0.24  ...   11309.90   \n",
       "41371       6.48  11307.85      0.240  11307.84       8.25  ...   11309.90   \n",
       "41372       0.48  11307.85      0.240  11307.84       8.25  ...   11309.90   \n",
       "41373       0.48  11307.85      0.240  11307.84       8.25  ...   11309.90   \n",
       "\n",
       "       amt_sell_8  px_sell_9  amt_sell_9  px_sell_10  amt_sell_10  trade_px  \\\n",
       "41369      22.000   12440.86       0.449    13684.95        1.004      0.00   \n",
       "41370       0.449   12440.89       1.004    13684.98        5.265      0.00   \n",
       "41371       0.449   12440.89       1.004    13684.98        5.265      0.00   \n",
       "41372       0.449   12440.89       1.004    13684.98        5.265      0.00   \n",
       "41373       0.449   12440.89       1.004    13684.98        5.265  11308.61   \n",
       "\n",
       "       trade_amt  trade_cnt  moreTradesInBatch  \n",
       "41369      0.000          0                NaN  \n",
       "41370      0.000          0                NaN  \n",
       "41371      0.000          0                NaN  \n",
       "41372      0.000          0                NaN  \n",
       "41373     -0.085          0                0.0  \n",
       "\n",
       "[5 rows x 48 columns]"
      ]
     },
     "execution_count": 11,
     "metadata": {},
     "output_type": "execute_result"
    }
   ],
   "source": [
    "df.tail()"
   ]
  },
  {
   "cell_type": "code",
   "execution_count": 12,
   "id": "3c4be994",
   "metadata": {},
   "outputs": [
    {
     "data": {
      "text/plain": [
       "type                     2\n",
       "msgSeqNum            40274\n",
       "exchHostTime           400\n",
       "adapterTime          40274\n",
       "px_buy_1              1900\n",
       "amt_buy_1             4413\n",
       "px_buy_2              2436\n",
       "amt_buy_2             2000\n",
       "px_buy_3              2495\n",
       "amt_buy_3             1914\n",
       "px_buy_4              2539\n",
       "amt_buy_4             1740\n",
       "px_buy_5              2576\n",
       "amt_buy_5             1623\n",
       "px_buy_6              2572\n",
       "amt_buy_6             1416\n",
       "px_buy_7              2559\n",
       "amt_buy_7             1315\n",
       "px_buy_8              2530\n",
       "amt_buy_8             1233\n",
       "px_buy_9              2441\n",
       "amt_buy_9             1147\n",
       "px_buy_10             2339\n",
       "amt_buy_10            1065\n",
       "px_sell_1             1824\n",
       "amt_sell_1            4766\n",
       "px_sell_2             2491\n",
       "amt_sell_2            2169\n",
       "px_sell_3             2643\n",
       "amt_sell_3            2154\n",
       "px_sell_4             2622\n",
       "amt_sell_4            1908\n",
       "px_sell_5             2630\n",
       "amt_sell_5            1572\n",
       "px_sell_6             2599\n",
       "amt_sell_6            1375\n",
       "px_sell_7             2552\n",
       "amt_sell_7            1233\n",
       "px_sell_8             2461\n",
       "amt_sell_8            1106\n",
       "px_sell_9             2461\n",
       "amt_sell_9            1046\n",
       "px_sell_10            2461\n",
       "amt_sell_10            990\n",
       "trade_px              2051\n",
       "trade_amt             1952\n",
       "trade_cnt               21\n",
       "moreTradesInBatch        1\n",
       "dtype: int64"
      ]
     },
     "execution_count": 12,
     "metadata": {},
     "output_type": "execute_result"
    }
   ],
   "source": [
    "df.nunique()\n"
   ]
  },
  {
   "cell_type": "code",
   "execution_count": 13,
   "id": "fa6cd065",
   "metadata": {},
   "outputs": [
    {
     "data": {
      "text/plain": [
       "100"
      ]
     },
     "execution_count": 13,
     "metadata": {},
     "output_type": "execute_result"
    }
   ],
   "source": [
    "duplicates_count = df.duplicated().sum()\n",
    "duplicates_count"
   ]
  },
  {
   "cell_type": "markdown",
   "id": "45f2aeee",
   "metadata": {},
   "source": [
    "proportion of duplicates"
   ]
  },
  {
   "cell_type": "code",
   "execution_count": 14,
   "id": "4f0cd077",
   "metadata": {},
   "outputs": [
    {
     "data": {
      "text/plain": [
       "0.2476841531678803"
      ]
     },
     "execution_count": 14,
     "metadata": {},
     "output_type": "execute_result"
    }
   ],
   "source": [
    "error_duplicates = duplicates_count/len(df) * 100\n",
    "error_duplicates"
   ]
  },
  {
   "cell_type": "markdown",
   "id": "16182919",
   "metadata": {},
   "source": [
    "\n",
    "checking for the possibility of partial duplicates"
   ]
  },
  {
   "cell_type": "code",
   "execution_count": 20,
   "id": "a65820e0",
   "metadata": {},
   "outputs": [],
   "source": [
    "df_out_dupl_1 = df.drop_duplicates(keep='first')"
   ]
  },
  {
   "cell_type": "markdown",
   "id": "0ebe50c4",
   "metadata": {},
   "source": [
    "### Пустые значения"
   ]
  },
  {
   "cell_type": "code",
   "execution_count": 16,
   "id": "087dab6b",
   "metadata": {},
   "outputs": [
    {
     "data": {
      "text/plain": [
       "type                     0\n",
       "msgSeqNum                0\n",
       "exchHostTime             0\n",
       "adapterTime              0\n",
       "px_buy_1                 1\n",
       "amt_buy_1                1\n",
       "px_buy_2                 0\n",
       "amt_buy_2                1\n",
       "px_buy_3                 0\n",
       "amt_buy_3                1\n",
       "px_buy_4                 0\n",
       "amt_buy_4                1\n",
       "px_buy_5                 0\n",
       "amt_buy_5                1\n",
       "px_buy_6                 0\n",
       "amt_buy_6                1\n",
       "px_buy_7                 0\n",
       "amt_buy_7                1\n",
       "px_buy_8                 0\n",
       "amt_buy_8                1\n",
       "px_buy_9                 0\n",
       "amt_buy_9                1\n",
       "px_buy_10                0\n",
       "amt_buy_10               1\n",
       "px_sell_1                0\n",
       "amt_sell_1               0\n",
       "px_sell_2                0\n",
       "amt_sell_2               0\n",
       "px_sell_3                0\n",
       "amt_sell_3               0\n",
       "px_sell_4                0\n",
       "amt_sell_4               0\n",
       "px_sell_5                0\n",
       "amt_sell_5               0\n",
       "px_sell_6                0\n",
       "amt_sell_6               0\n",
       "px_sell_7                0\n",
       "amt_sell_7               0\n",
       "px_sell_8                0\n",
       "amt_sell_8               0\n",
       "px_sell_9                0\n",
       "amt_sell_9               0\n",
       "px_sell_10               0\n",
       "amt_sell_10              0\n",
       "trade_px                 0\n",
       "trade_amt                0\n",
       "trade_cnt                0\n",
       "moreTradesInBatch    30156\n",
       "dtype: int64"
      ]
     },
     "execution_count": 16,
     "metadata": {},
     "output_type": "execute_result"
    }
   ],
   "source": [
    "df.isna().sum()"
   ]
  },
  {
   "cell_type": "code",
   "execution_count": 17,
   "id": "a969d46e",
   "metadata": {},
   "outputs": [
    {
     "data": {
      "text/html": [
       "<div>\n",
       "<style scoped>\n",
       "    .dataframe tbody tr th:only-of-type {\n",
       "        vertical-align: middle;\n",
       "    }\n",
       "\n",
       "    .dataframe tbody tr th {\n",
       "        vertical-align: top;\n",
       "    }\n",
       "\n",
       "    .dataframe thead th {\n",
       "        text-align: right;\n",
       "    }\n",
       "</style>\n",
       "<table border=\"1\" class=\"dataframe\">\n",
       "  <thead>\n",
       "    <tr style=\"text-align: right;\">\n",
       "      <th></th>\n",
       "      <th>type</th>\n",
       "      <th>msgSeqNum</th>\n",
       "      <th>exchHostTime</th>\n",
       "      <th>adapterTime</th>\n",
       "      <th>px_buy_1</th>\n",
       "      <th>amt_buy_1</th>\n",
       "      <th>px_buy_2</th>\n",
       "      <th>amt_buy_2</th>\n",
       "      <th>px_buy_3</th>\n",
       "      <th>amt_buy_3</th>\n",
       "      <th>...</th>\n",
       "      <th>px_sell_8</th>\n",
       "      <th>amt_sell_8</th>\n",
       "      <th>px_sell_9</th>\n",
       "      <th>amt_sell_9</th>\n",
       "      <th>px_sell_10</th>\n",
       "      <th>amt_sell_10</th>\n",
       "      <th>trade_px</th>\n",
       "      <th>trade_amt</th>\n",
       "      <th>trade_cnt</th>\n",
       "      <th>moreTradesInBatch</th>\n",
       "    </tr>\n",
       "  </thead>\n",
       "  <tbody>\n",
       "    <tr>\n",
       "      <th>1026</th>\n",
       "      <td>6</td>\n",
       "      <td>45252671063</td>\n",
       "      <td>1596240037000000000</td>\n",
       "      <td>1596240037432311550</td>\n",
       "      <td>11357.99</td>\n",
       "      <td>20.198</td>\n",
       "      <td>11357.67</td>\n",
       "      <td>0.169</td>\n",
       "      <td>11357.50</td>\n",
       "      <td>0.062</td>\n",
       "      <td>...</td>\n",
       "      <td>11359.77</td>\n",
       "      <td>1.000</td>\n",
       "      <td>12495.75</td>\n",
       "      <td>1.0</td>\n",
       "      <td>13745.32</td>\n",
       "      <td>0.056</td>\n",
       "      <td>0.0</td>\n",
       "      <td>0.0</td>\n",
       "      <td>0</td>\n",
       "      <td>NaN</td>\n",
       "    </tr>\n",
       "    <tr>\n",
       "      <th>1027</th>\n",
       "      <td>6</td>\n",
       "      <td>45252671132</td>\n",
       "      <td>1596240037000000000</td>\n",
       "      <td>1596240037432646141</td>\n",
       "      <td>11357.99</td>\n",
       "      <td>20.187</td>\n",
       "      <td>11357.75</td>\n",
       "      <td>0.061</td>\n",
       "      <td>11357.67</td>\n",
       "      <td>0.169</td>\n",
       "      <td>...</td>\n",
       "      <td>11359.64</td>\n",
       "      <td>0.056</td>\n",
       "      <td>12495.60</td>\n",
       "      <td>1.0</td>\n",
       "      <td>13745.16</td>\n",
       "      <td>1.000</td>\n",
       "      <td>0.0</td>\n",
       "      <td>0.0</td>\n",
       "      <td>0</td>\n",
       "      <td>NaN</td>\n",
       "    </tr>\n",
       "    <tr>\n",
       "      <th>1028</th>\n",
       "      <td>6</td>\n",
       "      <td>45252671176</td>\n",
       "      <td>1596240037000000000</td>\n",
       "      <td>1596240037432758813</td>\n",
       "      <td>11358.00</td>\n",
       "      <td>0.536</td>\n",
       "      <td>11357.99</td>\n",
       "      <td>20.187</td>\n",
       "      <td>11357.75</td>\n",
       "      <td>0.061</td>\n",
       "      <td>...</td>\n",
       "      <td>11359.64</td>\n",
       "      <td>0.056</td>\n",
       "      <td>12495.60</td>\n",
       "      <td>1.0</td>\n",
       "      <td>13745.16</td>\n",
       "      <td>1.000</td>\n",
       "      <td>0.0</td>\n",
       "      <td>0.0</td>\n",
       "      <td>0</td>\n",
       "      <td>NaN</td>\n",
       "    </tr>\n",
       "  </tbody>\n",
       "</table>\n",
       "<p>3 rows × 48 columns</p>\n",
       "</div>"
      ],
      "text/plain": [
       "      type    msgSeqNum         exchHostTime          adapterTime  px_buy_1  \\\n",
       "1026     6  45252671063  1596240037000000000  1596240037432311550  11357.99   \n",
       "1027     6  45252671132  1596240037000000000  1596240037432646141  11357.99   \n",
       "1028     6  45252671176  1596240037000000000  1596240037432758813  11358.00   \n",
       "\n",
       "      amt_buy_1  px_buy_2  amt_buy_2  px_buy_3  amt_buy_3  ...  px_sell_8  \\\n",
       "1026     20.198  11357.67      0.169  11357.50      0.062  ...   11359.77   \n",
       "1027     20.187  11357.75      0.061  11357.67      0.169  ...   11359.64   \n",
       "1028      0.536  11357.99     20.187  11357.75      0.061  ...   11359.64   \n",
       "\n",
       "      amt_sell_8  px_sell_9  amt_sell_9  px_sell_10  amt_sell_10  trade_px  \\\n",
       "1026       1.000   12495.75         1.0    13745.32        0.056       0.0   \n",
       "1027       0.056   12495.60         1.0    13745.16        1.000       0.0   \n",
       "1028       0.056   12495.60         1.0    13745.16        1.000       0.0   \n",
       "\n",
       "      trade_amt  trade_cnt  moreTradesInBatch  \n",
       "1026        0.0          0                NaN  \n",
       "1027        0.0          0                NaN  \n",
       "1028        0.0          0                NaN  \n",
       "\n",
       "[3 rows x 48 columns]"
      ]
     },
     "execution_count": 17,
     "metadata": {},
     "output_type": "execute_result"
    }
   ],
   "source": [
    "df_with_nulls = df[df.isnull().any(axis=1)]\n",
    "df_with_nulls.head(3)"
   ]
  },
  {
   "cell_type": "code",
   "execution_count": 18,
   "id": "79a2b81e",
   "metadata": {},
   "outputs": [
    {
     "data": {
      "text/plain": [
       "30167"
      ]
     },
     "execution_count": 18,
     "metadata": {},
     "output_type": "execute_result"
    }
   ],
   "source": [
    "df.isna().sum().sum()\n"
   ]
  },
  {
   "cell_type": "code",
   "execution_count": 19,
   "id": "437abfa8",
   "metadata": {},
   "outputs": [
    {
     "data": {
      "text/plain": [
       "30156"
      ]
     },
     "execution_count": 19,
     "metadata": {},
     "output_type": "execute_result"
    }
   ],
   "source": [
    "df.isnull().any(axis=1).sum()\n"
   ]
  },
  {
   "cell_type": "code",
   "execution_count": 20,
   "id": "9e7e3e37",
   "metadata": {},
   "outputs": [
    {
     "data": {
      "text/plain": [
       "moreTradesInBatch    30156\n",
       "amt_buy_8                1\n",
       "amt_buy_6                1\n",
       "amt_buy_9                1\n",
       "amt_buy_5                1\n",
       "amt_buy_4                1\n",
       "amt_buy_10               1\n",
       "amt_buy_3                1\n",
       "amt_buy_2                1\n",
       "amt_buy_1                1\n",
       "px_buy_1                 1\n",
       "amt_buy_7                1\n",
       "amt_sell_6               0\n",
       "px_sell_6                0\n",
       "px_sell_7                0\n",
       "amt_sell_5               0\n",
       "px_sell_5                0\n",
       "amt_sell_7               0\n",
       "px_sell_9                0\n",
       "px_sell_8                0\n",
       "amt_sell_8               0\n",
       "px_sell_4                0\n",
       "amt_sell_9               0\n",
       "px_sell_10               0\n",
       "amt_sell_10              0\n",
       "trade_px                 0\n",
       "trade_amt                0\n",
       "trade_cnt                0\n",
       "amt_sell_4               0\n",
       "type                     0\n",
       "amt_sell_3               0\n",
       "px_sell_3                0\n",
       "exchHostTime             0\n",
       "adapterTime              0\n",
       "px_buy_2                 0\n",
       "px_buy_3                 0\n",
       "px_buy_4                 0\n",
       "px_buy_5                 0\n",
       "px_buy_6                 0\n",
       "px_buy_7                 0\n",
       "px_buy_8                 0\n",
       "px_buy_9                 0\n",
       "px_buy_10                0\n",
       "msgSeqNum                0\n",
       "amt_sell_1               0\n",
       "px_sell_2                0\n",
       "amt_sell_2               0\n",
       "px_sell_1                0\n",
       "dtype: int64"
      ]
     },
     "execution_count": 20,
     "metadata": {},
     "output_type": "execute_result"
    }
   ],
   "source": [
    "df.isna().sum().sort_values(ascending=False)\n"
   ]
  },
  {
   "cell_type": "code",
   "execution_count": 19,
   "id": "84262976",
   "metadata": {},
   "outputs": [
    {
     "data": {
      "text/plain": [
       "array([ 0., nan])"
      ]
     },
     "execution_count": 19,
     "metadata": {},
     "output_type": "execute_result"
    }
   ],
   "source": [
    "df.moreTradesInBatch.unique()"
   ]
  },
  {
   "cell_type": "code",
   "execution_count": 21,
   "id": "aa2b27e7",
   "metadata": {},
   "outputs": [
    {
     "data": {
      "text/plain": [
       "0     10118\n",
       "1     30154\n",
       "2         1\n",
       "11        1\n",
       "dtype: int64"
      ]
     },
     "execution_count": 21,
     "metadata": {},
     "output_type": "execute_result"
    }
   ],
   "source": [
    "df_out_dupl_1.isna().sum(axis=1).value_counts().sort_index()"
   ]
  },
  {
   "cell_type": "code",
   "execution_count": 22,
   "id": "7fe0cda5",
   "metadata": {},
   "outputs": [
    {
     "data": {
      "text/plain": [
       "0     10218\n",
       "1     30154\n",
       "2         1\n",
       "11        1\n",
       "dtype: int64"
      ]
     },
     "execution_count": 22,
     "metadata": {},
     "output_type": "execute_result"
    }
   ],
   "source": [
    "df.isna().sum(axis=1).value_counts().sort_index()\n"
   ]
  },
  {
   "cell_type": "markdown",
   "id": "1d28822d",
   "metadata": {},
   "source": [
    "The column moreTradesInBatch contains 30,156 missing values. It has only two entries: 0 and NaN. This likely indicates that batch trading is not commonly used and may be an optional feature. Missing values may or may not be equivalent to 0; clarification is needed. Without additional information, analysis based on this column would be unreliable. If the column is removed, it represents 1/48 of the dataset (≈2.08%)."
   ]
  },
  {
   "cell_type": "code",
   "execution_count": 9,
   "id": "a1577551",
   "metadata": {},
   "outputs": [
    {
     "data": {
      "text/plain": [
       "2.083333333333333"
      ]
     },
     "execution_count": 9,
     "metadata": {},
     "output_type": "execute_result"
    }
   ],
   "source": [
    "error_column = 1/48 * 100\n",
    "error_column\n"
   ]
  },
  {
   "cell_type": "code",
   "execution_count": 16,
   "id": "bbb6de32",
   "metadata": {},
   "outputs": [
    {
     "data": {
      "text/plain": [
       "30156"
      ]
     },
     "execution_count": 16,
     "metadata": {},
     "output_type": "execute_result"
    }
   ],
   "source": [
    "df['moreTradesInBatch'].isna().sum()"
   ]
  },
  {
   "cell_type": "code",
   "execution_count": 23,
   "id": "236751d0",
   "metadata": {},
   "outputs": [],
   "source": [
    "df_out_nan_2 = df_out_dupl_1.drop('moreTradesInBatch', axis = 1)"
   ]
  },
  {
   "cell_type": "code",
   "execution_count": 24,
   "id": "14b5dd51",
   "metadata": {},
   "outputs": [
    {
     "data": {
      "text/plain": [
       "18932    10\n",
       "5212      1\n",
       "1000      0\n",
       "27953     0\n",
       "27946     0\n",
       "         ..\n",
       "14424     0\n",
       "14425     0\n",
       "14426     0\n",
       "14427     0\n",
       "41373     0\n",
       "Length: 40274, dtype: int64"
      ]
     },
     "execution_count": 24,
     "metadata": {},
     "output_type": "execute_result"
    }
   ],
   "source": [
    "df_out_nan_2.isna().sum(axis=1).sort_values(ascending=False)\n"
   ]
  },
  {
   "cell_type": "code",
   "execution_count": 25,
   "id": "308ebb49",
   "metadata": {
    "scrolled": true
   },
   "outputs": [
    {
     "data": {
      "text/plain": [
       "type                              6\n",
       "msgSeqNum               45254156865\n",
       "exchHostTime    1596240379000000000\n",
       "adapterTime     1596240379450540994\n",
       "px_buy_1                   11380.32\n",
       "amt_buy_1                       NaN\n",
       "px_buy_2                    11380.0\n",
       "amt_buy_2                       NaN\n",
       "px_buy_3                    11379.1\n",
       "amt_buy_3                       NaN\n",
       "px_buy_4                   11379.09\n",
       "amt_buy_4                       NaN\n",
       "px_buy_5                   11379.08\n",
       "amt_buy_5                       NaN\n",
       "px_buy_6                   11378.91\n",
       "amt_buy_6                       NaN\n",
       "px_buy_7                   11378.82\n",
       "amt_buy_7                       NaN\n",
       "px_buy_8                   11378.79\n",
       "amt_buy_8                       NaN\n",
       "px_buy_9                   11378.58\n",
       "amt_buy_9                       NaN\n",
       "px_buy_10                   11378.5\n",
       "amt_buy_10                      NaN\n",
       "px_sell_1                  11380.33\n",
       "amt_sell_1                    0.485\n",
       "px_sell_2                  11380.44\n",
       "amt_sell_2                      7.2\n",
       "px_sell_3                  11380.56\n",
       "amt_sell_3                    1.076\n",
       "px_sell_4                  11380.84\n",
       "amt_sell_4                     0.12\n",
       "px_sell_5                   11380.9\n",
       "amt_sell_5                     0.06\n",
       "px_sell_6                  11380.91\n",
       "amt_sell_6                      0.3\n",
       "px_sell_7                  11380.94\n",
       "amt_sell_7                      0.9\n",
       "px_sell_8                  11380.96\n",
       "amt_sell_8                      1.0\n",
       "px_sell_9                  12519.06\n",
       "amt_sell_9                      1.1\n",
       "px_sell_10                 13770.97\n",
       "amt_sell_10                   0.836\n",
       "trade_px                        0.0\n",
       "trade_amt                       0.0\n",
       "trade_cnt                         0\n",
       "Name: 18932, dtype: object"
      ]
     },
     "execution_count": 25,
     "metadata": {},
     "output_type": "execute_result"
    }
   ],
   "source": [
    "df_out_nan_2.loc[18932]"
   ]
  },
  {
   "cell_type": "code",
   "execution_count": 26,
   "id": "117b0ff0",
   "metadata": {},
   "outputs": [
    {
     "data": {
      "text/plain": [
       "type                              6\n",
       "msgSeqNum               45252817706\n",
       "exchHostTime    1596240060000000000\n",
       "adapterTime     1596240060949630203\n",
       "px_buy_1                        NaN\n",
       "amt_buy_1                    48.701\n",
       "px_buy_2                   11367.93\n",
       "amt_buy_2                      0.29\n",
       "px_buy_3                   11367.92\n",
       "amt_buy_3                     2.912\n",
       "px_buy_4                   11367.91\n",
       "amt_buy_4                     0.701\n",
       "px_buy_5                    11367.9\n",
       "amt_buy_5                     0.001\n",
       "px_buy_6                    11367.8\n",
       "amt_buy_6                     0.161\n",
       "px_buy_7                   11367.79\n",
       "amt_buy_7                     0.001\n",
       "px_buy_8                   11367.38\n",
       "amt_buy_8                     0.785\n",
       "px_buy_9                   11367.37\n",
       "amt_buy_9                     0.006\n",
       "px_buy_10                  11367.13\n",
       "amt_buy_10                    0.039\n",
       "px_sell_1                  11370.05\n",
       "amt_sell_1                    0.249\n",
       "px_sell_2                  11370.07\n",
       "amt_sell_2                    1.477\n",
       "px_sell_3                  11370.26\n",
       "amt_sell_3                    0.016\n",
       "px_sell_4                  11370.56\n",
       "amt_sell_4                    0.005\n",
       "px_sell_5                  11370.57\n",
       "amt_sell_5                    0.009\n",
       "px_sell_6                  11370.91\n",
       "amt_sell_6                    0.005\n",
       "px_sell_7                  11370.92\n",
       "amt_sell_7                    0.005\n",
       "px_sell_8                  11370.95\n",
       "amt_sell_8                    1.005\n",
       "px_sell_9                  12508.05\n",
       "amt_sell_9                    0.045\n",
       "px_sell_10                 13758.86\n",
       "amt_sell_10                   1.253\n",
       "trade_px                        0.0\n",
       "trade_amt                       0.0\n",
       "trade_cnt                         0\n",
       "Name: 5212, dtype: object"
      ]
     },
     "execution_count": 26,
     "metadata": {},
     "output_type": "execute_result"
    }
   ],
   "source": [
    "df_out_nan_2.loc[5212]"
   ]
  },
  {
   "cell_type": "code",
   "execution_count": 27,
   "id": "22b2b1c4",
   "metadata": {},
   "outputs": [],
   "source": [
    "df_out_nan_2 = df_out_nan_2.drop(index=5212)\n"
   ]
  },
  {
   "cell_type": "code",
   "execution_count": 10,
   "id": "559d9e61",
   "metadata": {},
   "outputs": [
    {
     "name": "stdout",
     "output_type": "stream",
     "text": [
      "Empty string error rate (with 1 empty value out of 48)): 0.002476841531678803\n"
     ]
    }
   ],
   "source": [
    "error_nan = 1/len(df) * 100\n",
    "print(f'Empty string error rate (with 1 empty value out of 48)): {error_nan}')"
   ]
  },
  {
   "cell_type": "code",
   "execution_count": 11,
   "id": "a9ceeac7",
   "metadata": {},
   "outputs": [
    {
     "name": "stdout",
     "output_type": "stream",
     "text": [
      "Percentage of all Nan ratings: 2.086\n"
     ]
    }
   ],
   "source": [
    "nan_error_rows_col = error_column + error_nan\n",
    "\n",
    "print(f'Percentage of all Nan ratings: {round(nan_error_rows_col, 3)}')"
   ]
  },
  {
   "cell_type": "markdown",
   "id": "91b04c1f",
   "metadata": {},
   "source": [
    "The empty line -1. This is 0.0025% and can be deleted. If there is no other information."
   ]
  },
  {
   "cell_type": "markdown",
   "id": "53bc51ea",
   "metadata": {},
   "source": [
    "### Outliers"
   ]
  },
  {
   "cell_type": "code",
   "execution_count": 28,
   "id": "c9d7cd96",
   "metadata": {},
   "outputs": [
    {
     "data": {
      "text/plain": [
       "0     40272\n",
       "10        1\n",
       "dtype: int64"
      ]
     },
     "execution_count": 28,
     "metadata": {},
     "output_type": "execute_result"
    }
   ],
   "source": [
    "df_out_nan_2.isna().sum(axis=1).value_counts().sort_index()"
   ]
  },
  {
   "cell_type": "code",
   "execution_count": 29,
   "id": "d3dcd8d0",
   "metadata": {},
   "outputs": [
    {
     "data": {
      "text/html": [
       "<div>\n",
       "<style scoped>\n",
       "    .dataframe tbody tr th:only-of-type {\n",
       "        vertical-align: middle;\n",
       "    }\n",
       "\n",
       "    .dataframe tbody tr th {\n",
       "        vertical-align: top;\n",
       "    }\n",
       "\n",
       "    .dataframe thead th {\n",
       "        text-align: right;\n",
       "    }\n",
       "</style>\n",
       "<table border=\"1\" class=\"dataframe\">\n",
       "  <thead>\n",
       "    <tr style=\"text-align: right;\">\n",
       "      <th></th>\n",
       "      <th>type</th>\n",
       "      <th>msgSeqNum</th>\n",
       "      <th>exchHostTime</th>\n",
       "      <th>adapterTime</th>\n",
       "      <th>px_buy_1</th>\n",
       "      <th>amt_buy_1</th>\n",
       "      <th>px_buy_2</th>\n",
       "      <th>amt_buy_2</th>\n",
       "      <th>px_buy_3</th>\n",
       "      <th>amt_buy_3</th>\n",
       "      <th>...</th>\n",
       "      <th>amt_sell_7</th>\n",
       "      <th>px_sell_8</th>\n",
       "      <th>amt_sell_8</th>\n",
       "      <th>px_sell_9</th>\n",
       "      <th>amt_sell_9</th>\n",
       "      <th>px_sell_10</th>\n",
       "      <th>amt_sell_10</th>\n",
       "      <th>trade_px</th>\n",
       "      <th>trade_amt</th>\n",
       "      <th>trade_cnt</th>\n",
       "    </tr>\n",
       "  </thead>\n",
       "  <tbody>\n",
       "    <tr>\n",
       "      <th>count</th>\n",
       "      <td>40273.000000</td>\n",
       "      <td>4.027300e+04</td>\n",
       "      <td>4.027300e+04</td>\n",
       "      <td>4.027300e+04</td>\n",
       "      <td>4.027300e+04</td>\n",
       "      <td>4.027200e+04</td>\n",
       "      <td>4.027300e+04</td>\n",
       "      <td>4.027200e+04</td>\n",
       "      <td>4.027300e+04</td>\n",
       "      <td>4.027200e+04</td>\n",
       "      <td>...</td>\n",
       "      <td>40273.000000</td>\n",
       "      <td>40273.000000</td>\n",
       "      <td>40273.000000</td>\n",
       "      <td>40273.000000</td>\n",
       "      <td>40273.000000</td>\n",
       "      <td>40273.000000</td>\n",
       "      <td>40273.000000</td>\n",
       "      <td>40273.000000</td>\n",
       "      <td>40273.000000</td>\n",
       "      <td>40273.000000</td>\n",
       "    </tr>\n",
       "    <tr>\n",
       "      <th>mean</th>\n",
       "      <td>5.497529</td>\n",
       "      <td>3.392438e+10</td>\n",
       "      <td>1.596165e+18</td>\n",
       "      <td>1.596241e+18</td>\n",
       "      <td>2.937657e+05</td>\n",
       "      <td>3.137220e+05</td>\n",
       "      <td>2.937595e+05</td>\n",
       "      <td>5.464685e+03</td>\n",
       "      <td>2.937511e+05</td>\n",
       "      <td>2.503149e+04</td>\n",
       "      <td>...</td>\n",
       "      <td>1.073061</td>\n",
       "      <td>11345.379634</td>\n",
       "      <td>1.135305</td>\n",
       "      <td>12479.917837</td>\n",
       "      <td>1.035167</td>\n",
       "      <td>13727.909940</td>\n",
       "      <td>0.875664</td>\n",
       "      <td>2850.868583</td>\n",
       "      <td>-0.006491</td>\n",
       "      <td>0.153453</td>\n",
       "    </tr>\n",
       "    <tr>\n",
       "      <th>std</th>\n",
       "      <td>0.867458</td>\n",
       "      <td>1.956197e+10</td>\n",
       "      <td>1.070102e+16</td>\n",
       "      <td>5.671190e+11</td>\n",
       "      <td>5.667686e+07</td>\n",
       "      <td>6.295631e+07</td>\n",
       "      <td>5.667562e+07</td>\n",
       "      <td>1.096279e+06</td>\n",
       "      <td>5.667397e+07</td>\n",
       "      <td>5.022951e+06</td>\n",
       "      <td>...</td>\n",
       "      <td>3.325050</td>\n",
       "      <td>36.230794</td>\n",
       "      <td>3.670827</td>\n",
       "      <td>39.853977</td>\n",
       "      <td>3.299685</td>\n",
       "      <td>43.839321</td>\n",
       "      <td>3.037129</td>\n",
       "      <td>4921.729441</td>\n",
       "      <td>0.630346</td>\n",
       "      <td>0.670548</td>\n",
       "    </tr>\n",
       "    <tr>\n",
       "      <th>min</th>\n",
       "      <td>4.000000</td>\n",
       "      <td>1.225378e+08</td>\n",
       "      <td>0.000000e+00</td>\n",
       "      <td>1.596240e+18</td>\n",
       "      <td>0.000000e+00</td>\n",
       "      <td>-1.420000e+01</td>\n",
       "      <td>1.129315e+04</td>\n",
       "      <td>-4.440000e-01</td>\n",
       "      <td>1.129310e+04</td>\n",
       "      <td>-1.007000e+00</td>\n",
       "      <td>...</td>\n",
       "      <td>0.001000</td>\n",
       "      <td>11294.610000</td>\n",
       "      <td>-1.000000</td>\n",
       "      <td>12424.070000</td>\n",
       "      <td>0.001000</td>\n",
       "      <td>13666.480000</td>\n",
       "      <td>0.001000</td>\n",
       "      <td>0.000000</td>\n",
       "      <td>-25.246000</td>\n",
       "      <td>-1.000000</td>\n",
       "    </tr>\n",
       "    <tr>\n",
       "      <th>25%</th>\n",
       "      <td>4.000000</td>\n",
       "      <td>1.735432e+08</td>\n",
       "      <td>1.596240e+18</td>\n",
       "      <td>1.596240e+18</td>\n",
       "      <td>1.130795e+04</td>\n",
       "      <td>2.400000e-01</td>\n",
       "      <td>1.130758e+04</td>\n",
       "      <td>1.020000e-01</td>\n",
       "      <td>1.130727e+04</td>\n",
       "      <td>9.500000e-02</td>\n",
       "      <td>...</td>\n",
       "      <td>0.040000</td>\n",
       "      <td>11309.860000</td>\n",
       "      <td>0.016000</td>\n",
       "      <td>12440.850000</td>\n",
       "      <td>0.007000</td>\n",
       "      <td>13684.940000</td>\n",
       "      <td>0.006000</td>\n",
       "      <td>0.000000</td>\n",
       "      <td>0.000000</td>\n",
       "      <td>0.000000</td>\n",
       "    </tr>\n",
       "    <tr>\n",
       "      <th>50%</th>\n",
       "      <td>6.000000</td>\n",
       "      <td>4.525398e+10</td>\n",
       "      <td>1.596240e+18</td>\n",
       "      <td>1.596240e+18</td>\n",
       "      <td>1.136133e+04</td>\n",
       "      <td>1.000000e+00</td>\n",
       "      <td>1.136128e+04</td>\n",
       "      <td>3.940000e-01</td>\n",
       "      <td>1.136100e+04</td>\n",
       "      <td>3.870000e-01</td>\n",
       "      <td>...</td>\n",
       "      <td>0.200000</td>\n",
       "      <td>11363.100000</td>\n",
       "      <td>0.167000</td>\n",
       "      <td>12499.410000</td>\n",
       "      <td>0.145000</td>\n",
       "      <td>13749.350000</td>\n",
       "      <td>0.125000</td>\n",
       "      <td>0.000000</td>\n",
       "      <td>0.000000</td>\n",
       "      <td>0.000000</td>\n",
       "    </tr>\n",
       "    <tr>\n",
       "      <th>75%</th>\n",
       "      <td>6.000000</td>\n",
       "      <td>4.525754e+10</td>\n",
       "      <td>1.596241e+18</td>\n",
       "      <td>1.596241e+18</td>\n",
       "      <td>1.138038e+04</td>\n",
       "      <td>4.951000e+00</td>\n",
       "      <td>1.138003e+04</td>\n",
       "      <td>1.051000e+00</td>\n",
       "      <td>1.138000e+04</td>\n",
       "      <td>1.009000e+00</td>\n",
       "      <td>...</td>\n",
       "      <td>1.000000</td>\n",
       "      <td>11381.950000</td>\n",
       "      <td>0.992000</td>\n",
       "      <td>12520.150000</td>\n",
       "      <td>0.966000</td>\n",
       "      <td>13772.160000</td>\n",
       "      <td>0.830000</td>\n",
       "      <td>11294.090000</td>\n",
       "      <td>0.000000</td>\n",
       "      <td>0.000000</td>\n",
       "    </tr>\n",
       "    <tr>\n",
       "      <th>max</th>\n",
       "      <td>6.000000</td>\n",
       "      <td>4.525803e+10</td>\n",
       "      <td>1.596241e+18</td>\n",
       "      <td>1.596241e+18</td>\n",
       "      <td>1.137400e+10</td>\n",
       "      <td>1.263400e+10</td>\n",
       "      <td>1.137375e+10</td>\n",
       "      <td>2.200000e+08</td>\n",
       "      <td>1.137342e+10</td>\n",
       "      <td>1.008000e+09</td>\n",
       "      <td>...</td>\n",
       "      <td>49.555000</td>\n",
       "      <td>11394.300000</td>\n",
       "      <td>51.244000</td>\n",
       "      <td>12533.730000</td>\n",
       "      <td>49.935000</td>\n",
       "      <td>13787.100000</td>\n",
       "      <td>51.284000</td>\n",
       "      <td>11392.800000</td>\n",
       "      <td>17.261000</td>\n",
       "      <td>46.000000</td>\n",
       "    </tr>\n",
       "  </tbody>\n",
       "</table>\n",
       "<p>8 rows × 46 columns</p>\n",
       "</div>"
      ],
      "text/plain": [
       "               type     msgSeqNum  exchHostTime   adapterTime      px_buy_1  \\\n",
       "count  40273.000000  4.027300e+04  4.027300e+04  4.027300e+04  4.027300e+04   \n",
       "mean       5.497529  3.392438e+10  1.596165e+18  1.596241e+18  2.937657e+05   \n",
       "std        0.867458  1.956197e+10  1.070102e+16  5.671190e+11  5.667686e+07   \n",
       "min        4.000000  1.225378e+08  0.000000e+00  1.596240e+18  0.000000e+00   \n",
       "25%        4.000000  1.735432e+08  1.596240e+18  1.596240e+18  1.130795e+04   \n",
       "50%        6.000000  4.525398e+10  1.596240e+18  1.596240e+18  1.136133e+04   \n",
       "75%        6.000000  4.525754e+10  1.596241e+18  1.596241e+18  1.138038e+04   \n",
       "max        6.000000  4.525803e+10  1.596241e+18  1.596241e+18  1.137400e+10   \n",
       "\n",
       "          amt_buy_1      px_buy_2     amt_buy_2      px_buy_3     amt_buy_3  \\\n",
       "count  4.027200e+04  4.027300e+04  4.027200e+04  4.027300e+04  4.027200e+04   \n",
       "mean   3.137220e+05  2.937595e+05  5.464685e+03  2.937511e+05  2.503149e+04   \n",
       "std    6.295631e+07  5.667562e+07  1.096279e+06  5.667397e+07  5.022951e+06   \n",
       "min   -1.420000e+01  1.129315e+04 -4.440000e-01  1.129310e+04 -1.007000e+00   \n",
       "25%    2.400000e-01  1.130758e+04  1.020000e-01  1.130727e+04  9.500000e-02   \n",
       "50%    1.000000e+00  1.136128e+04  3.940000e-01  1.136100e+04  3.870000e-01   \n",
       "75%    4.951000e+00  1.138003e+04  1.051000e+00  1.138000e+04  1.009000e+00   \n",
       "max    1.263400e+10  1.137375e+10  2.200000e+08  1.137342e+10  1.008000e+09   \n",
       "\n",
       "       ...    amt_sell_7     px_sell_8    amt_sell_8     px_sell_9  \\\n",
       "count  ...  40273.000000  40273.000000  40273.000000  40273.000000   \n",
       "mean   ...      1.073061  11345.379634      1.135305  12479.917837   \n",
       "std    ...      3.325050     36.230794      3.670827     39.853977   \n",
       "min    ...      0.001000  11294.610000     -1.000000  12424.070000   \n",
       "25%    ...      0.040000  11309.860000      0.016000  12440.850000   \n",
       "50%    ...      0.200000  11363.100000      0.167000  12499.410000   \n",
       "75%    ...      1.000000  11381.950000      0.992000  12520.150000   \n",
       "max    ...     49.555000  11394.300000     51.244000  12533.730000   \n",
       "\n",
       "         amt_sell_9    px_sell_10   amt_sell_10      trade_px     trade_amt  \\\n",
       "count  40273.000000  40273.000000  40273.000000  40273.000000  40273.000000   \n",
       "mean       1.035167  13727.909940      0.875664   2850.868583     -0.006491   \n",
       "std        3.299685     43.839321      3.037129   4921.729441      0.630346   \n",
       "min        0.001000  13666.480000      0.001000      0.000000    -25.246000   \n",
       "25%        0.007000  13684.940000      0.006000      0.000000      0.000000   \n",
       "50%        0.145000  13749.350000      0.125000      0.000000      0.000000   \n",
       "75%        0.966000  13772.160000      0.830000  11294.090000      0.000000   \n",
       "max       49.935000  13787.100000     51.284000  11392.800000     17.261000   \n",
       "\n",
       "          trade_cnt  \n",
       "count  40273.000000  \n",
       "mean       0.153453  \n",
       "std        0.670548  \n",
       "min       -1.000000  \n",
       "25%        0.000000  \n",
       "50%        0.000000  \n",
       "75%        0.000000  \n",
       "max       46.000000  \n",
       "\n",
       "[8 rows x 46 columns]"
      ]
     },
     "execution_count": 29,
     "metadata": {},
     "output_type": "execute_result"
    }
   ],
   "source": [
    "df_out_nan_2.describe()"
   ]
  },
  {
   "cell_type": "code",
   "execution_count": 31,
   "id": "cb7fac61",
   "metadata": {},
   "outputs": [
    {
     "name": "stdout",
     "output_type": "stream",
     "text": [
      "outliers in columns:\n",
      "adapterTime         0\n",
      "px_sell_9           0\n",
      "px_sell_8           0\n",
      "px_sell_7           0\n",
      "px_sell_6           0\n",
      "px_sell_5           0\n",
      "px_sell_4           0\n",
      "px_sell_3           0\n",
      "px_sell_2           0\n",
      "px_sell_10          0\n",
      "px_sell_1           0\n",
      "trade_px            0\n",
      "msgSeqNum           0\n",
      "type                0\n",
      "px_buy_7            1\n",
      "px_buy_8            1\n",
      "px_buy_6            1\n",
      "px_buy_5            1\n",
      "px_buy_4            1\n",
      "px_buy_3            1\n",
      "px_buy_2            1\n",
      "px_buy_10           1\n",
      "px_buy_9            2\n",
      "px_buy_1            2\n",
      "exchHostTime        2\n",
      "amt_sell_10      1982\n",
      "amt_buy_10       2354\n",
      "amt_sell_9       2464\n",
      "amt_sell_7       2533\n",
      "amt_buy_9        2699\n",
      "amt_sell_8       2743\n",
      "amt_sell_1       2842\n",
      "amt_sell_6       3051\n",
      "amt_buy_8        3079\n",
      "amt_sell_5       3210\n",
      "amt_buy_7        3510\n",
      "amt_buy_1        3648\n",
      "amt_buy_4        3914\n",
      "trade_cnt        3931\n",
      "amt_buy_6        3975\n",
      "amt_buy_5        4074\n",
      "amt_sell_4       4098\n",
      "amt_buy_3        4263\n",
      "amt_buy_2        4424\n",
      "amt_sell_3       5344\n",
      "amt_sell_2       6538\n",
      "trade_amt       10118\n",
      "dtype: int64\n"
     ]
    },
    {
     "name": "stderr",
     "output_type": "stream",
     "text": [
      "C:\\Users\\Юля\\AppData\\Local\\Temp\\ipykernel_20452\\3268395349.py:1: FutureWarning: The default value of numeric_only in DataFrame.quantile is deprecated. In a future version, it will default to False. Select only valid columns or specify the value of numeric_only to silence this warning.\n",
      "  Q1 = df_out_nan_2.quantile(0.25)\n",
      "C:\\Users\\Юля\\AppData\\Local\\Temp\\ipykernel_20452\\3268395349.py:2: FutureWarning: The default value of numeric_only in DataFrame.quantile is deprecated. In a future version, it will default to False. Select only valid columns or specify the value of numeric_only to silence this warning.\n",
      "  Q3 = df_out_nan_2.quantile(0.75)\n",
      "C:\\Users\\Юля\\AppData\\Local\\Temp\\ipykernel_20452\\3268395349.py:4: FutureWarning: Automatic reindexing on DataFrame vs Series comparisons is deprecated and will raise ValueError in a future version. Do `left, right = left.align(right, axis=1, copy=False)` before e.g. `left == right`\n",
      "  outliers = ((df_out_nan_2 < (Q1 - 3 * IQR)) | (df_out_nan_2 > (Q3 + 3 * IQR)))\n"
     ]
    }
   ],
   "source": [
    "Q1 = df_out_nan_2.quantile(0.25)\n",
    "Q3 = df_out_nan_2.quantile(0.75)\n",
    "IQR = Q3 - Q1\n",
    "outliers = ((df_out_nan_2 < (Q1 - 3 * IQR)) | (df_out_nan_2 > (Q3 + 3 * IQR)))\n",
    "print(\"outliers in columns:\")\n",
    "print(outliers.sum().sort_values())"
   ]
  },
  {
   "cell_type": "code",
   "execution_count": 32,
   "id": "f2ac7dfd",
   "metadata": {},
   "outputs": [
    {
     "data": {
      "image/png": "[encoded data removed]",
      "text/plain": [
       "<Figure size 2000x1000 with 1 Axes>"
      ]
     },
     "metadata": {},
     "output_type": "display_data"
    }
   ],
   "source": [
    "plt.figure(figsize=(20, 10))\n",
    "df_out_nan_2.select_dtypes(include=[np.number]).boxplot()\n",
    "plt.xticks(rotation=90)\n",
    "plt.title('All outliers')\n",
    "plt.show()"
   ]
  },
  {
   "cell_type": "code",
   "execution_count": 38,
   "id": "04be7f95",
   "metadata": {},
   "outputs": [
    {
     "data": {
      "image/png": "[encoded data removed]",
      "text/plain": [
       "<Figure size 2000x1500 with 49 Axes>"
      ]
     },
     "metadata": {},
     "output_type": "display_data"
    }
   ],
   "source": [
    "df_out_nan_2.hist(bins=30, figsize=(20, 15))\n",
    "plt.tight_layout()\n",
    "plt.show()"
   ]
  },
  {
   "cell_type": "markdown",
   "id": "45c7ed22",
   "metadata": {},
   "source": [
    "\n",
    "z_scores is not suitable because the distribution is not normal.\n"
   ]
  },
  {
   "cell_type": "code",
   "execution_count": 33,
   "id": "a717c336",
   "metadata": {},
   "outputs": [
    {
     "name": "stdout",
     "output_type": "stream",
     "text": [
      "All meanings: 40273\n",
      "NaN: 1\n",
      "Clear: 40272\n"
     ]
    },
    {
     "data": {
      "image/png": "[encoded data removed]",
      "text/plain": [
       "<Figure size 2000x1000 with 1 Axes>"
      ]
     },
     "metadata": {},
     "output_type": "display_data"
    }
   ],
   "source": [
    "print(f\"All meanings: {len(df_out_nan_2['amt_buy_1'])}\")\n",
    "print(f\"NaN: {df_out_nan_2['amt_buy_1'].isna().sum()}\")\n",
    "\n",
    "# Удалите NaN перед построением\n",
    "clean_data = df_out_nan_2['amt_buy_1'].dropna()\n",
    "print(f\"Clear: {len(clean_data)}\")\n",
    "\n",
    "if len(clean_data) > 0:\n",
    "    plt.figure(figsize=(20, 10))\n",
    "    plt.boxplot(clean_data)\n",
    "    plt.title('Boxplot with outliers due IQR')\n",
    "    plt.show()\n",
    "else:\n",
    "    print(\"No data\")"
   ]
  },
  {
   "cell_type": "code",
   "execution_count": 34,
   "id": "b08054b3",
   "metadata": {},
   "outputs": [
    {
     "name": "stdout",
     "output_type": "stream",
     "text": [
      "Columns with outliers: 33\n"
     ]
    }
   ],
   "source": [
    "def calculate_outliers_report(df_out_nan_2):\n",
    "    \"\"\"Columns with outliers\"\"\"\n",
    "    report = {'error_details': []}\n",
    "    \n",
    "    for col in df_out_nan_2.select_dtypes(include=[np.number]).columns:\n",
    "                   \n",
    "        Q1 = df_out_nan_2[col].quantile(0.25)\n",
    "        Q3 = df_out_nan_2[col].quantile(0.75)\n",
    "        IQR = Q3 - Q1\n",
    "        \n",
    "        # Calculating outliers (3*IQR - strict criterion)\n",
    "        outliers = df_out_nan_2[col][(df_out_nan_2[col] < Q1 - 3*IQR) | (df_out_nan_2[col] > Q3 + 3*IQR)]\n",
    "        \n",
    "        if len(outliers) > 0:\n",
    "            report['error_details'].append({\n",
    "                'column': col,\n",
    "                'outliers_count': len(outliers),\n",
    "                'outliers_percentage': (len(outliers) / len(df_out_nan_2[col].dropna())) * 100,\n",
    "                'min_outlier': outliers.min(),\n",
    "                'max_outlier': outliers.max(),\n",
    "                'Q1': Q1,\n",
    "                'Q3': Q3,\n",
    "                'IQR': IQR\n",
    "            })\n",
    "    \n",
    "    return report\n",
    "\n",
    "# Using\n",
    "outliers_report = calculate_outliers_report(df_out_nan_2)\n",
    "print(f\"Columns with outliers: {len(outliers_report['error_details'])}\")\n",
    "       \n"
   ]
  },
  {
   "cell_type": "code",
   "execution_count": 37,
   "id": "b1b3f3d3",
   "metadata": {},
   "outputs": [
    {
     "name": "stdout",
     "output_type": "stream",
     "text": [
      "Number of extreme outliers (3×IQR): 84808\n"
     ]
    }
   ],
   "source": [
    "def calculate_total_extreme_outliers(df_out_nan_2):\n",
    "    \"\"\"extreme outliers(3×IQR)\"\"\"\n",
    "    total_outliers = 0\n",
    "    \n",
    "    for col in df_out_nan_2.select_dtypes(include=[np.number]).columns:\n",
    "        if df_out_nan_2[col].notna().sum() < 10:\n",
    "            continue\n",
    "            \n",
    "        Q1 = df_out_nan_2[col].quantile(0.25)\n",
    "        Q3 = df_out_nan_2[col].quantile(0.75)\n",
    "        IQR = Q3 - Q1\n",
    "        \n",
    "        outliers = df_out_nan_2[col][(df_out_nan_2[col] < Q1 - 3*IQR) | (df_out_nan_2[col] > Q3 + 3*IQR)]\n",
    "        total_outliers += len(outliers)\n",
    "    \n",
    "    return total_outliers\n",
    "\n",
    "# Использование\n",
    "total_extreme_outliers = calculate_total_extreme_outliers(df_out_nan_2)\n",
    "print(f\"Number of extreme outliers (3×IQR): {total_extreme_outliers}\")"
   ]
  },
  {
   "cell_type": "code",
   "execution_count": 38,
   "id": "13db6d17",
   "metadata": {},
   "outputs": [
    {
     "name": "stdout",
     "output_type": "stream",
     "text": [
      "Топ-5 columns with outliers:\n",
      "trade_amt: 10118 outliers\n",
      "amt_sell_2: 6538 outliers\n",
      "amt_sell_3: 5344 outliers\n",
      "amt_buy_2: 4424 outliers\n",
      "amt_buy_3: 4263 outliers\n",
      "amt_sell_4: 4098 outliers\n",
      "amt_buy_5: 4074 outliers\n",
      "amt_buy_6: 3975 outliers\n",
      "trade_cnt: 3931 outliers\n",
      "amt_buy_4: 3914 outliers\n",
      "amt_buy_1: 3648 outliers\n",
      "amt_buy_7: 3510 outliers\n",
      "amt_sell_5: 3210 outliers\n",
      "amt_buy_8: 3079 outliers\n",
      "amt_sell_6: 3051 outliers\n",
      "amt_sell_1: 2842 outliers\n",
      "amt_sell_8: 2743 outliers\n",
      "amt_buy_9: 2699 outliers\n",
      "amt_sell_7: 2533 outliers\n",
      "amt_sell_9: 2464 outliers\n"
     ]
    }
   ],
   "source": [
    "outliers_by_column = {}\n",
    "for col in df_out_nan_2.select_dtypes(include=[np.number]).columns:\n",
    "    Q1 = df_out_nan_2[col].quantile(0.25)\n",
    "    Q3 = df_out_nan_2[col].quantile(0.75)\n",
    "    IQR = Q3 - Q1\n",
    "    outliers = len(df_out_nan_2[col][(df_out_nan_2[col] < Q1 - 3*IQR) | (df_out_nan_2[col] > Q3 + 3*IQR)])\n",
    "    outliers_by_column[col] = outliers\n",
    "\n",
    "# Топ-5 проблемных столбцов\n",
    "top_columns = sorted(outliers_by_column.items(), key=lambda x: x[1], reverse=True)[:20]\n",
    "print(\"Топ-5 columns with outliers:\")\n",
    "for col, count in top_columns:\n",
    "    print(f\"{col}: {count} outliers\")"
   ]
  },
  {
   "cell_type": "code",
   "execution_count": 39,
   "id": "4068ce4d",
   "metadata": {
    "scrolled": true
   },
   "outputs": [
    {
     "data": {
      "image/png": "[encoded data removed]",
      "text/plain": [
       "<Figure size 640x480 with 1 Axes>"
      ]
     },
     "metadata": {},
     "output_type": "display_data"
    }
   ],
   "source": [
    "df_out_nan_2.boxplot(column='trade_amt')\n",
    "\n",
    "plt.title('boxplot for \"trade_amt\"')\n",
    "plt.ylabel('trade_amt')\n",
    "plt.show()"
   ]
  },
  {
   "cell_type": "code",
   "execution_count": 40,
   "id": "232db4a2",
   "metadata": {},
   "outputs": [
    {
     "data": {
      "text/plain": [
       "4.38"
      ]
     },
     "execution_count": 40,
     "metadata": {},
     "output_type": "execute_result"
    }
   ],
   "source": [
    "# Outliers in percentage: 84808/1937952 *100, это не так\n",
    "round(84808/1937952 *100, 2)"
   ]
  },
  {
   "cell_type": "code",
   "execution_count": 45,
   "id": "d429bb33",
   "metadata": {},
   "outputs": [
    {
     "data": {
      "text/html": [
       "<div>\n",
       "<style scoped>\n",
       "    .dataframe tbody tr th:only-of-type {\n",
       "        vertical-align: middle;\n",
       "    }\n",
       "\n",
       "    .dataframe tbody tr th {\n",
       "        vertical-align: top;\n",
       "    }\n",
       "\n",
       "    .dataframe thead th {\n",
       "        text-align: right;\n",
       "    }\n",
       "</style>\n",
       "<table border=\"1\" class=\"dataframe\">\n",
       "  <thead>\n",
       "    <tr style=\"text-align: right;\">\n",
       "      <th></th>\n",
       "      <th>type</th>\n",
       "      <th>msgSeqNum</th>\n",
       "      <th>exchHostTime</th>\n",
       "      <th>adapterTime</th>\n",
       "      <th>px_buy_1</th>\n",
       "      <th>amt_buy_1</th>\n",
       "      <th>px_buy_2</th>\n",
       "      <th>amt_buy_2</th>\n",
       "      <th>px_buy_3</th>\n",
       "      <th>amt_buy_3</th>\n",
       "      <th>...</th>\n",
       "      <th>amt_sell_7</th>\n",
       "      <th>px_sell_8</th>\n",
       "      <th>amt_sell_8</th>\n",
       "      <th>px_sell_9</th>\n",
       "      <th>amt_sell_9</th>\n",
       "      <th>px_sell_10</th>\n",
       "      <th>amt_sell_10</th>\n",
       "      <th>trade_px</th>\n",
       "      <th>trade_amt</th>\n",
       "      <th>trade_cnt</th>\n",
       "    </tr>\n",
       "  </thead>\n",
       "  <tbody>\n",
       "    <tr>\n",
       "      <th>1000</th>\n",
       "      <td>4</td>\n",
       "      <td>173525833</td>\n",
       "      <td>1596240037000000000</td>\n",
       "      <td>1596240037431704679</td>\n",
       "      <td>11357.99</td>\n",
       "      <td>20.199</td>\n",
       "      <td>11357.67</td>\n",
       "      <td>0.169</td>\n",
       "      <td>11357.5</td>\n",
       "      <td>0.062</td>\n",
       "      <td>...</td>\n",
       "      <td>0.001</td>\n",
       "      <td>11358.82</td>\n",
       "      <td>0.001</td>\n",
       "      <td>12494.7</td>\n",
       "      <td>0.063</td>\n",
       "      <td>13744.17</td>\n",
       "      <td>0.111</td>\n",
       "      <td>11358.25</td>\n",
       "      <td>0.175</td>\n",
       "      <td>0</td>\n",
       "    </tr>\n",
       "    <tr>\n",
       "      <th>1001</th>\n",
       "      <td>4</td>\n",
       "      <td>173525834</td>\n",
       "      <td>1596240037000000000</td>\n",
       "      <td>1596240037431749155</td>\n",
       "      <td>11357.99</td>\n",
       "      <td>20.199</td>\n",
       "      <td>11357.67</td>\n",
       "      <td>0.169</td>\n",
       "      <td>11357.5</td>\n",
       "      <td>0.062</td>\n",
       "      <td>...</td>\n",
       "      <td>0.001</td>\n",
       "      <td>11358.82</td>\n",
       "      <td>0.001</td>\n",
       "      <td>12494.7</td>\n",
       "      <td>0.063</td>\n",
       "      <td>13744.17</td>\n",
       "      <td>0.111</td>\n",
       "      <td>11358.26</td>\n",
       "      <td>2.000</td>\n",
       "      <td>0</td>\n",
       "    </tr>\n",
       "    <tr>\n",
       "      <th>1002</th>\n",
       "      <td>4</td>\n",
       "      <td>122537841</td>\n",
       "      <td>1596240037000000000</td>\n",
       "      <td>1596240037431776197</td>\n",
       "      <td>11357.99</td>\n",
       "      <td>20.199</td>\n",
       "      <td>11357.67</td>\n",
       "      <td>0.169</td>\n",
       "      <td>11357.5</td>\n",
       "      <td>0.062</td>\n",
       "      <td>...</td>\n",
       "      <td>0.001</td>\n",
       "      <td>11358.82</td>\n",
       "      <td>0.001</td>\n",
       "      <td>12494.7</td>\n",
       "      <td>0.063</td>\n",
       "      <td>13744.17</td>\n",
       "      <td>0.111</td>\n",
       "      <td>11358.25</td>\n",
       "      <td>0.175</td>\n",
       "      <td>1</td>\n",
       "    </tr>\n",
       "    <tr>\n",
       "      <th>1003</th>\n",
       "      <td>4</td>\n",
       "      <td>122537842</td>\n",
       "      <td>1596240037000000000</td>\n",
       "      <td>1596240037431782097</td>\n",
       "      <td>11357.99</td>\n",
       "      <td>20.199</td>\n",
       "      <td>11357.67</td>\n",
       "      <td>0.169</td>\n",
       "      <td>11357.5</td>\n",
       "      <td>0.062</td>\n",
       "      <td>...</td>\n",
       "      <td>0.001</td>\n",
       "      <td>11358.82</td>\n",
       "      <td>0.001</td>\n",
       "      <td>12494.7</td>\n",
       "      <td>0.063</td>\n",
       "      <td>13744.17</td>\n",
       "      <td>0.111</td>\n",
       "      <td>11358.26</td>\n",
       "      <td>2.000</td>\n",
       "      <td>1</td>\n",
       "    </tr>\n",
       "    <tr>\n",
       "      <th>1004</th>\n",
       "      <td>4</td>\n",
       "      <td>173525835</td>\n",
       "      <td>1596240037000000000</td>\n",
       "      <td>1596240037431794710</td>\n",
       "      <td>11357.99</td>\n",
       "      <td>20.199</td>\n",
       "      <td>11357.67</td>\n",
       "      <td>0.169</td>\n",
       "      <td>11357.5</td>\n",
       "      <td>0.062</td>\n",
       "      <td>...</td>\n",
       "      <td>0.001</td>\n",
       "      <td>11358.82</td>\n",
       "      <td>0.001</td>\n",
       "      <td>12494.7</td>\n",
       "      <td>0.063</td>\n",
       "      <td>13744.17</td>\n",
       "      <td>0.111</td>\n",
       "      <td>11358.33</td>\n",
       "      <td>0.004</td>\n",
       "      <td>0</td>\n",
       "    </tr>\n",
       "  </tbody>\n",
       "</table>\n",
       "<p>5 rows × 47 columns</p>\n",
       "</div>"
      ],
      "text/plain": [
       "      type  msgSeqNum         exchHostTime          adapterTime  px_buy_1  \\\n",
       "1000     4  173525833  1596240037000000000  1596240037431704679  11357.99   \n",
       "1001     4  173525834  1596240037000000000  1596240037431749155  11357.99   \n",
       "1002     4  122537841  1596240037000000000  1596240037431776197  11357.99   \n",
       "1003     4  122537842  1596240037000000000  1596240037431782097  11357.99   \n",
       "1004     4  173525835  1596240037000000000  1596240037431794710  11357.99   \n",
       "\n",
       "      amt_buy_1  px_buy_2  amt_buy_2  px_buy_3  amt_buy_3  ...  amt_sell_7  \\\n",
       "1000     20.199  11357.67      0.169   11357.5      0.062  ...       0.001   \n",
       "1001     20.199  11357.67      0.169   11357.5      0.062  ...       0.001   \n",
       "1002     20.199  11357.67      0.169   11357.5      0.062  ...       0.001   \n",
       "1003     20.199  11357.67      0.169   11357.5      0.062  ...       0.001   \n",
       "1004     20.199  11357.67      0.169   11357.5      0.062  ...       0.001   \n",
       "\n",
       "      px_sell_8  amt_sell_8  px_sell_9  amt_sell_9  px_sell_10  amt_sell_10  \\\n",
       "1000   11358.82       0.001    12494.7       0.063    13744.17        0.111   \n",
       "1001   11358.82       0.001    12494.7       0.063    13744.17        0.111   \n",
       "1002   11358.82       0.001    12494.7       0.063    13744.17        0.111   \n",
       "1003   11358.82       0.001    12494.7       0.063    13744.17        0.111   \n",
       "1004   11358.82       0.001    12494.7       0.063    13744.17        0.111   \n",
       "\n",
       "      trade_px  trade_amt  trade_cnt  \n",
       "1000  11358.25      0.175          0  \n",
       "1001  11358.26      2.000          0  \n",
       "1002  11358.25      0.175          1  \n",
       "1003  11358.26      2.000          1  \n",
       "1004  11358.33      0.004          0  \n",
       "\n",
       "[5 rows x 47 columns]"
      ]
     },
     "execution_count": 45,
     "metadata": {},
     "output_type": "execute_result"
    }
   ],
   "source": [
    "df_out_nan_2.head()\n"
   ]
  },
  {
   "cell_type": "code",
   "execution_count": 42,
   "id": "cb5abc9b",
   "metadata": {},
   "outputs": [
    {
     "name": "stdout",
     "output_type": "stream",
     "text": [
      "Топ-10 columns with outliers:\n",
      "trade_amt: 10118 outliers\n",
      "amt_sell_2: 6538 outliers\n",
      "amt_sell_3: 5344 outliers\n",
      "amt_buy_2: 4424 outliers\n",
      "amt_buy_3: 4263 outliers\n",
      "amt_sell_4: 4098 outliers\n",
      "amt_buy_5: 4074 outliers\n",
      "amt_buy_6: 3975 outliers\n",
      "trade_cnt: 3931 outliers\n",
      "amt_buy_4: 3914 outliers\n",
      "amt_buy_1: 3648 outliers\n",
      "amt_buy_7: 3510 outliers\n",
      "amt_sell_5: 3210 outliers\n",
      "amt_buy_8: 3079 outliers\n",
      "amt_sell_6: 3051 outliers\n",
      "amt_sell_1: 2842 outliers\n",
      "amt_sell_8: 2743 outliers\n",
      "amt_buy_9: 2699 outliers\n",
      "amt_sell_7: 2533 outliers\n",
      "amt_sell_9: 2464 outliers\n",
      "amt_buy_10: 2354 outliers\n",
      "amt_sell_10: 1982 outliers\n"
     ]
    }
   ],
   "source": [
    "outliers_by_column1 = {}\n",
    "for col in df_out_nan_2.select_dtypes(include=[np.number]).columns:\n",
    "    Q1 = df_out_nan_2[col].quantile(0.25)\n",
    "    Q3 = df_out_nan_2[col].quantile(0.75)\n",
    "    IQR = Q3 - Q1\n",
    "    outliers = len(df_out_nan_2[col][(df_out_nan_2[col] < Q1 - 3*IQR) | (df_out_nan_2[col] > Q3 + 3*IQR)])\n",
    "    outliers_by_column[col] = outliers\n",
    "\n",
    "# Топ-5 проблемных столбцов\n",
    "top_columns1 = sorted(outliers_by_column.items(), key=lambda x: x[1], reverse=True)[:22]                                                      \n",
    "print(\"Топ-10 columns with outliers:\")\n",
    "for col, count in top_columns1:\n",
    "    print(f\"{col}: {count} outliers\")"
   ]
  },
  {
   "cell_type": "code",
   "execution_count": 43,
   "id": "3c35bcff",
   "metadata": {},
   "outputs": [
    {
     "name": "stdout",
     "output_type": "stream",
     "text": [
      "Топ-40 columns with outliers:\n",
      "trade_amt: 10118 outliers\n",
      "amt_sell_2: 6538 outliers\n",
      "amt_sell_3: 5344 outliers\n",
      "amt_buy_2: 4424 outliers\n",
      "amt_buy_3: 4263 outliers\n",
      "amt_sell_4: 4098 outliers\n",
      "amt_buy_5: 4074 outliers\n",
      "amt_buy_6: 3975 outliers\n",
      "trade_cnt: 3931 outliers\n",
      "amt_buy_4: 3914 outliers\n",
      "amt_buy_1: 3648 outliers\n",
      "amt_buy_7: 3510 outliers\n",
      "amt_sell_5: 3210 outliers\n",
      "amt_buy_8: 3079 outliers\n",
      "amt_sell_6: 3051 outliers\n",
      "amt_sell_1: 2842 outliers\n",
      "amt_sell_8: 2743 outliers\n",
      "amt_buy_9: 2699 outliers\n",
      "amt_sell_7: 2533 outliers\n",
      "amt_sell_9: 2464 outliers\n",
      "amt_buy_10: 2354 outliers\n",
      "amt_sell_10: 1982 outliers\n",
      "exchHostTime: 2 outliers\n",
      "px_buy_1: 2 outliers\n",
      "px_buy_9: 2 outliers\n",
      "px_buy_2: 1 outliers\n",
      "px_buy_3: 1 outliers\n",
      "px_buy_4: 1 outliers\n",
      "px_buy_5: 1 outliers\n",
      "px_buy_6: 1 outliers\n",
      "px_buy_7: 1 outliers\n",
      "px_buy_8: 1 outliers\n",
      "px_buy_10: 1 outliers\n",
      "type: 0 outliers\n",
      "msgSeqNum: 0 outliers\n",
      "adapterTime: 0 outliers\n",
      "px_sell_1: 0 outliers\n",
      "px_sell_2: 0 outliers\n",
      "px_sell_3: 0 outliers\n",
      "px_sell_4: 0 outliers\n"
     ]
    }
   ],
   "source": [
    "outliers_by_column = {}\n",
    "for col in df_out_nan_2.select_dtypes(include=[np.number]).columns:\n",
    "    Q1 = df_out_nan_2[col].quantile(0.25)\n",
    "    Q3 = df_out_nan_2[col].quantile(0.75)\n",
    "    IQR = Q3 - Q1\n",
    "    outliers = len(df_out_nan_2[col][(df_out_nan_2[col] < Q1 - 3*IQR) | (df_out_nan_2[col] > Q3 + 3*IQR)])\n",
    "    outliers_by_column[col] = outliers\n",
    "\n",
    "\n",
    "top_columns = sorted(outliers_by_column.items(), key=lambda x: x[1], reverse=True)[:40]                                                      \n",
    "print(\"Топ-40 columns with outliers:\")\n",
    "for col, count in top_columns:\n",
    "    print(f\"{col}: {count} outliers\")"
   ]
  },
  {
   "cell_type": "code",
   "execution_count": 44,
   "id": "dc7f3d3d",
   "metadata": {},
   "outputs": [
    {
     "data": {
      "image/png": "[encoded data removed]",
      "text/plain": [
       "<Figure size 1500x800 with 1 Axes>"
      ]
     },
     "metadata": {},
     "output_type": "display_data"
    }
   ],
   "source": [
    "outliers_count = {col: df_out_nan_2[col].isnull().sum() for col in df_out_nan_2.columns}\n",
    "min_outliers = [col for col, count in outliers_count.items() if 1 <= count <= 2]\n",
    "\n",
    "plt.figure(figsize=(15, 8))\n",
    "df_out_nan_2[min_outliers].boxplot()\n",
    "plt.xticks(rotation=45)\n",
    "plt.title('columns with 1-2 outliers')\n",
    "plt.show()"
   ]
  },
  {
   "cell_type": "code",
   "execution_count": 45,
   "id": "51b8865e",
   "metadata": {},
   "outputs": [
    {
     "data": {
      "image/png": "[encoded data removed]",
      "text/plain": [
       "<Figure size 800x600 with 1 Axes>"
      ]
     },
     "metadata": {},
     "output_type": "display_data"
    }
   ],
   "source": [
    "plt.figure(figsize=(8, 6))\n",
    "df_out_nan_2['exchHostTime'].plot.box()\n",
    "plt.title('Boxplot for exchHostTime')\n",
    "plt.ylabel('Meaning')\n",
    "plt.show()"
   ]
  },
  {
   "cell_type": "code",
   "execution_count": 46,
   "id": "bff442f3",
   "metadata": {},
   "outputs": [
    {
     "data": {
      "text/plain": [
       "-1.5961654182241078e+18"
      ]
     },
     "execution_count": 46,
     "metadata": {},
     "output_type": "execute_result"
    }
   ],
   "source": [
    "result = df_out_nan_2['exchHostTime'].min() - df_out_nan_2['exchHostTime'].mean()\n",
    "result\n"
   ]
  },
  {
   "cell_type": "code",
   "execution_count": 47,
   "id": "5ba370e9",
   "metadata": {},
   "outputs": [],
   "source": [
    "Q1 = df_out_nan_2['exchHostTime'].quantile(0.25)\n",
    "Q3 = df_out_nan_2['exchHostTime'].quantile(0.75)\n",
    "IQR = Q3 - Q1\n",
    "\n",
    "lower_bound = Q1 - 3 * IQR\n",
    "upper_bound = Q3 + 3 * IQR\n",
    "\n",
    "df_out_outliers_3 = df_out_nan_2[(df_out_nan_2['exchHostTime'] >= lower_bound) & (df_out_nan_2['exchHostTime'] <= upper_bound)]\n"
   ]
  },
  {
   "cell_type": "code",
   "execution_count": 52,
   "id": "fa0cd215",
   "metadata": {},
   "outputs": [
    {
     "data": {
      "text/plain": [
       "(40271, 47)"
      ]
     },
     "execution_count": 52,
     "metadata": {},
     "output_type": "execute_result"
    }
   ],
   "source": [
    "df_out_outliers_3.shape"
   ]
  },
  {
   "cell_type": "markdown",
   "id": "62fe34d5",
   "metadata": {},
   "source": [
    "Error - 2 lines removed - time outliers."
   ]
  },
  {
   "cell_type": "code",
   "execution_count": 48,
   "id": "5c465b0d",
   "metadata": {},
   "outputs": [
    {
     "data": {
      "image/png": "[encoded data removed]",
      "text/plain": [
       "<Figure size 800x600 with 1 Axes>"
      ]
     },
     "metadata": {},
     "output_type": "display_data"
    }
   ],
   "source": [
    "plt.figure(figsize=(8, 6))\n",
    "df_out_outliers_3['amt_buy_4'].plot.box(\n",
    "    patch_artist=True,\n",
    "    boxprops=dict(facecolor='lightgreen')  # только зеленый цвет\n",
    ")\n",
    "plt.ylabel('amt_buy_4')\n",
    "plt.show()"
   ]
  },
  {
   "cell_type": "code",
   "execution_count": 49,
   "id": "f5ca789b",
   "metadata": {},
   "outputs": [
    {
     "data": {
      "image/png": "[encoded data removed]",
      "text/plain": [
       "<Figure size 800x600 with 1 Axes>"
      ]
     },
     "metadata": {},
     "output_type": "display_data"
    }
   ],
   "source": [
    "plt.figure(figsize=(8, 6))\n",
    "df_out_outliers_3['exchHostTime'].plot.box(\n",
    "    patch_artist=True,\n",
    "    boxprops=dict(facecolor='lightgreen')  # только зеленый цвет\n",
    ")\n",
    "plt.ylabel('Время')\n",
    "plt.show()"
   ]
  },
  {
   "cell_type": "code",
   "execution_count": 50,
   "id": "3bfc99db",
   "metadata": {},
   "outputs": [
    {
     "name": "stdout",
     "output_type": "stream",
     "text": [
      "Топ-10 columns with outliers:\n",
      "trade_amt: 10118 outliers\n",
      "amt_sell_2: 6538 outliers\n",
      "amt_sell_3: 5344 outliers\n",
      "amt_buy_2: 4424 outliers\n",
      "amt_buy_3: 4263 outliers\n",
      "amt_sell_4: 4098 outliers\n",
      "amt_buy_5: 4074 outliers\n",
      "amt_buy_6: 3974 outliers\n",
      "trade_cnt: 3931 outliers\n",
      "amt_buy_4: 3914 outliers\n",
      "amt_buy_1: 3647 outliers\n",
      "amt_buy_7: 3510 outliers\n",
      "amt_sell_5: 3210 outliers\n",
      "amt_buy_8: 3079 outliers\n",
      "amt_sell_6: 3051 outliers\n",
      "amt_sell_1: 2842 outliers\n",
      "amt_sell_8: 2742 outliers\n",
      "amt_buy_9: 2699 outliers\n",
      "amt_sell_7: 2533 outliers\n",
      "amt_sell_9: 2464 outliers\n",
      "amt_buy_10: 2354 outliers\n",
      "amt_sell_10: 1982 outliers\n",
      "px_buy_1: 2 outliers\n",
      "px_buy_9: 2 outliers\n",
      "px_buy_2: 1 outliers\n",
      "px_buy_3: 1 outliers\n",
      "px_buy_4: 1 outliers\n",
      "px_buy_5: 1 outliers\n",
      "px_buy_6: 1 outliers\n",
      "px_buy_7: 1 outliers\n",
      "px_buy_8: 1 outliers\n",
      "px_buy_10: 1 outliers\n",
      "type: 0 outliers\n"
     ]
    }
   ],
   "source": [
    "outliers_by_column = {}\n",
    "for col in df_out_outliers_3.select_dtypes(include=[np.number]).columns:\n",
    "    Q1 = df_out_outliers_3[col].quantile(0.25)\n",
    "    Q3 = df_out_outliers_3[col].quantile(0.75)\n",
    "    IQR = Q3 - Q1\n",
    "    outliers = len(df_out_outliers_3[col][(df_out_outliers_3[col] < Q1 - 3*IQR) | (df_out_outliers_3[col] > Q3 + 3*IQR)])\n",
    "    outliers_by_column[col] = outliers\n",
    "\n",
    "# Топ-5 проблемных столбцов\n",
    "top_columns = sorted(outliers_by_column.items(), key=lambda x: x[1], reverse=True)[:33]                                                      \n",
    "print(\"Топ-10 columns with outliers:\")\n",
    "for col, count in top_columns:\n",
    "    print(f\"{col}: {count} outliers\")"
   ]
  },
  {
   "cell_type": "markdown",
   "id": "c49df0e0",
   "metadata": {},
   "source": [
    "# List to be deleted"
   ]
  },
  {
   "cell_type": "code",
   "execution_count": 51,
   "id": "d26655ae",
   "metadata": {},
   "outputs": [
    {
     "data": {
      "image/png": "[encoded data removed]",
      "text/plain": [
       "<Figure size 800x600 with 1 Axes>"
      ]
     },
     "metadata": {},
     "output_type": "display_data"
    }
   ],
   "source": [
    "plt.figure(figsize=(8, 6))\n",
    "df_out_outliers_3['px_buy_2'].plot.box(\n",
    "    patch_artist=True,\n",
    "    boxprops=dict(facecolor='lightgreen')  # только зеленый цвет\n",
    ")\n",
    "plt.ylabel('by')\n",
    "plt.show()"
   ]
  },
  {
   "cell_type": "code",
   "execution_count": 52,
   "id": "5b753e88",
   "metadata": {},
   "outputs": [
    {
     "name": "stdout",
     "output_type": "stream",
     "text": [
      "average: 293773.549\n",
      "max: 11373750000.0\n",
      "- min: 282480.399\n",
      "- max -11373456226.451\n"
     ]
    }
   ],
   "source": [
    "mean_value = df_out_outliers_3['px_buy_2'].mean()   \n",
    "min_value = df_out_outliers_3['px_buy_2'].min()    \n",
    "max_value = df_out_outliers_3['px_buy_2'].max()\n",
    "# Разница\n",
    "difference = mean_value - min_value\n",
    "difference_m = mean_value - max_value\n",
    "print(\"average:\", round(mean_value, 3))\n",
    "print(\"max:\", round(max_value, 3))\n",
    "print(\"- min:\", round(difference, 3))\n",
    "print(\"- max\", round(difference_m, 3))"
   ]
  },
  {
   "cell_type": "code",
   "execution_count": 57,
   "id": "4c2a9fe7",
   "metadata": {},
   "outputs": [
    {
     "name": "stdout",
     "output_type": "stream",
     "text": [
      "AVG: 293779.732\n",
      "min: 0.0\n",
      "max: 11374000000.0\n",
      "-min: 293779.732\n",
      "- max: -11373706220.268\n"
     ]
    }
   ],
   "source": [
    "mean_value = df_out_outliers_3['px_buy_1'].mean()   \n",
    "min_value = df_out_outliers_3['px_buy_1'].min()    \n",
    "max_value = df_out_outliers_3['px_buy_1'].max()\n",
    "# Разница\n",
    "difference = mean_value - min_value\n",
    "difference_m = mean_value - max_value\n",
    "print(\"AVG:\", round(mean_value, 3))\n",
    "print(\"min:\", round(min_value, 3))\n",
    "print(\"max:\", round(max_value, 3))\n",
    "print(\"-min:\", round(difference, 3))\n",
    "print(\"- max:\", round(difference_m, 3))"
   ]
  },
  {
   "cell_type": "code",
   "execution_count": 55,
   "id": "87f279d7",
   "metadata": {},
   "outputs": [
    {
     "data": {
      "image/png": "[encoded data removed]",
      "text/plain": [
       "<Figure size 800x600 with 1 Axes>"
      ]
     },
     "metadata": {},
     "output_type": "display_data"
    }
   ],
   "source": [
    "plt.figure(figsize=(8, 6))\n",
    "df_out_outliers_3['px_buy_1'].plot.box(\n",
    "    patch_artist=True,\n",
    "    boxprops=dict(facecolor='lightgreen')  \n",
    ")\n",
    "plt.ylabel('by')\n",
    "plt.show()"
   ]
  },
  {
   "cell_type": "code",
   "execution_count": 58,
   "id": "f125f61c",
   "metadata": {},
   "outputs": [
    {
     "name": "stdout",
     "output_type": "stream",
     "text": [
      "Среднее: 313737.563\n",
      "Минимум: -14.2\n",
      "Максимум: 12634000000.0\n",
      "Разница с минимум: 313751.763\n",
      "Разница с макисмумом: -12633686262.437\n"
     ]
    }
   ],
   "source": [
    "mean_value = df_out_outliers_3['amt_buy_1'].mean()   # Среднее\n",
    "min_value = df_out_outliers_3['amt_buy_1'].min()     # Минимум\n",
    "max_value = df_out_outliers_3['amt_buy_1'].max()\n",
    "# Разница\n",
    "difference = mean_value - min_value\n",
    "difference_m = mean_value - max_value\n",
    "print(\"Среднее:\", round(mean_value, 3))\n",
    "print(\"Минимум:\", round(min_value, 3))\n",
    "print(\"Максимум:\", round(max_value, 3))\n",
    "print(\"Разница с минимум:\", round(difference, 3))\n",
    "print(\"Разница с макисмумом:\", round(difference_m, 3))"
   ]
  },
  {
   "cell_type": "code",
   "execution_count": 59,
   "id": "7614f964",
   "metadata": {},
   "outputs": [
    {
     "data": {
      "image/png": "[encoded data removed]",
      "text/plain": [
       "<Figure size 2000x1000 with 1 Axes>"
      ]
     },
     "metadata": {},
     "output_type": "display_data"
    }
   ],
   "source": [
    "columns_to_plot = ['px_buy_1', 'px_buy_9', 'amt_buy_9', 'amt_sell_7', 'amt_sell_9', \n",
    "                   'amt_buy_1', 'px_buy_2', 'px_buy_3', 'px_buy_4', 'px_buy_5', \n",
    "                   'px_buy_6', 'px_buy_7', 'px_buy_8', 'amt_buy_8', 'px_buy_10', 'amt_sell_8']\n",
    "\n",
    "plt.figure(figsize=(20, 10))\n",
    "df_out_outliers_3[columns_to_plot].boxplot(patch_artist=True)\n",
    "plt.xticks(rotation=45)\n",
    "plt.title('Boxplots для торговых столбцов')\n",
    "plt.ylabel('Значения')\n",
    "plt.show()"
   ]
  },
  {
   "cell_type": "code",
   "execution_count": 64,
   "id": "dd747ebb",
   "metadata": {},
   "outputs": [
    {
     "data": {
      "image/png": "[encoded data removed]",
      "text/plain": [
       "<Figure size 2000x1000 with 1 Axes>"
      ]
     },
     "metadata": {},
     "output_type": "display_data"
    }
   ],
   "source": [
    "columns_to_plot = ['amt_buy_9', 'amt_sell_7',  \n",
    "                   'amt_buy_8', 'amt_sell_8']\n",
    "\n",
    "plt.figure(figsize=(20, 10))\n",
    "df_out_outliers_3[columns_to_plot].boxplot(patch_artist=True)\n",
    "plt.xticks(rotation=45)\n",
    "plt.title('Boxplots для торговых столбцов')\n",
    "plt.ylabel('Значения')\n",
    "plt.show()"
   ]
  },
  {
   "cell_type": "code",
   "execution_count": 65,
   "id": "c5cfaa03",
   "metadata": {},
   "outputs": [
    {
     "name": "stdout",
     "output_type": "stream",
     "text": [
      "Среднее: 24833.541\n",
      "Минимум: -1.99\n",
      "Максимум: 1000000000.0\n",
      "Разница с минимум: 24835.531\n",
      "Разница с макисмумом: -999975166.459\n"
     ]
    }
   ],
   "source": [
    "mean_value = df_out_outliers_3['amt_buy_8'].mean()   # Среднее\n",
    "min_value = df_out_outliers_3['amt_buy_8'].min()     # Минимум\n",
    "max_value = df_out_outliers_3['amt_buy_8'].max()\n",
    "# Разница\n",
    "difference = mean_value - min_value\n",
    "difference_m = mean_value - max_value\n",
    "print(\"Среднее:\", round(mean_value, 3))\n",
    "print(\"Минимум:\", round(min_value, 3))\n",
    "print(\"Максимум:\", round(max_value, 3))\n",
    "print(\"Разница с минимум:\", round(difference, 3))\n",
    "print(\"Разница с макисмумом:\", round(difference_m, 3))"
   ]
  },
  {
   "cell_type": "code",
   "execution_count": 66,
   "id": "e30225aa",
   "metadata": {},
   "outputs": [
    {
     "name": "stdout",
     "output_type": "stream",
     "text": [
      "Среднее: 125.166\n",
      "Минимум: -3.0\n",
      "Максимум: 5000000.0\n",
      "Разница с минимум: 128.166\n",
      "Разница с макисмумом: -4999874.834\n"
     ]
    }
   ],
   "source": [
    "mean_value = df_out_outliers_3['amt_buy_9'].mean()   # Среднее\n",
    "min_value = df_out_outliers_3['amt_buy_9'].min()     # Минимум\n",
    "max_value = df_out_outliers_3['amt_buy_9'].max()\n",
    "# Разница\n",
    "difference = mean_value - min_value\n",
    "difference_m = mean_value - max_value\n",
    "print(\"Среднее:\", round(mean_value, 3))\n",
    "print(\"Минимум:\", round(min_value, 3))\n",
    "print(\"Максимум:\", round(max_value, 3))\n",
    "print(\"Разница с минимум:\", round(difference, 3))\n",
    "print(\"Разница с макисмумом:\", round(difference_m, 3))"
   ]
  },
  {
   "cell_type": "code",
   "execution_count": 67,
   "id": "ac90cd18",
   "metadata": {},
   "outputs": [
    {
     "name": "stdout",
     "output_type": "stream",
     "text": [
      "Среднее: 1.135\n",
      "Минимум: -1.0\n",
      "Максимум: 51.244\n",
      "Разница с минимум: 2.135\n",
      "Разница с макисмумом: -50.109\n"
     ]
    }
   ],
   "source": [
    "mean_value = df_out_outliers_3['amt_sell_8'].mean()   # Среднее\n",
    "min_value = df_out_outliers_3['amt_sell_8'].min()     # Минимум\n",
    "max_value = df_out_outliers_3['amt_sell_8'].max()\n",
    "# Разница\n",
    "difference = mean_value - min_value\n",
    "difference_m = mean_value - max_value\n",
    "print(\"Среднее:\", round(mean_value, 3))\n",
    "print(\"Минимум:\", round(min_value, 3))\n",
    "print(\"Максимум:\", round(max_value, 3))\n",
    "print(\"Разница с минимум:\", round(difference, 3))\n",
    "print(\"Разница с макисмумом:\", round(difference_m, 3))"
   ]
  },
  {
   "cell_type": "markdown",
   "id": "7e0b576b",
   "metadata": {},
   "source": [
    "Удялим строки, данные в которых выходят за перделы 50 IORи разница сос редним составляет десятки миллиардов px_buy_1', 'px_buy_9', 'amt_buy_1', 'px_buy_2',\n",
    "    'px_buy_3', 'px_buy_4', 'px_buy_5', 'px_buy_6', 'px_buy_7',\n",
    "    'px_buy_8', 'px_buy_10'. ДАнные столбце amt_by8 оставим. РАзница там составляет миллиард"
   ]
  },
  {
   "cell_type": "code",
   "execution_count": 68,
   "id": "6336c953",
   "metadata": {},
   "outputs": [
    {
     "name": "stdout",
     "output_type": "stream",
     "text": [
      "Было строк: 40271\n",
      "Удалено строк с максимумами: 2\n",
      "Осталось строк: 40269\n"
     ]
    }
   ],
   "source": [
    "columns_to_check = [\n",
    "    'px_buy_1', 'px_buy_9', 'amt_buy_1', 'px_buy_2',\n",
    "    'px_buy_3', 'px_buy_4', 'px_buy_5', 'px_buy_6', 'px_buy_7',\n",
    "    'px_buy_8', 'px_buy_10', 'amt_buy_8'\n",
    "]\n",
    "\n",
    "# Создаем маску для строк, которые нужно удалить\n",
    "mask = pd.Series(False, index=df_out_outliers_3.index)\n",
    "\n",
    "for column in columns_to_check:\n",
    "    if column in df_out_outliers_3.columns:\n",
    "        max_value = df_out_outliers_3[column].max()\n",
    "        # Добавляем в маску строки с максимальным значением в текущем столбце\n",
    "        mask = mask | (df_out_outliers_3[column] == max_value)\n",
    "\n",
    "# Удаляем строки, где есть хотя бы одно максимальное значение\n",
    "df_clean = df_out_outliers_3[~mask]\n",
    "\n",
    "print(f\"Было строк: {len(df_out_outliers_3)}\")\n",
    "print(f\"Удалено строк с максимумами: {mask.sum()}\")\n",
    "print(f\"Осталось строк: {len(df_clean)}\")"
   ]
  },
  {
   "cell_type": "markdown",
   "id": "8bc9f0c1",
   "metadata": {},
   "source": [
    "Првоерка удаления. В итоге удалено вего две строки."
   ]
  },
  {
   "cell_type": "code",
   "execution_count": 69,
   "id": "6f759612",
   "metadata": {
    "scrolled": true
   },
   "outputs": [
    {
     "name": "stdout",
     "output_type": "stream",
     "text": [
      "px_buy_1: было 11374000000.0, стало 11392.79\n",
      "px_buy_9: было 11372360000.0, стало 11392.01\n",
      "amt_buy_1: было 12634000000.0, стало 67.935\n",
      "px_buy_2: было 11373750000.0, стало 11392.76\n",
      "px_buy_3: было 11373420000.0, стало 11392.75\n",
      "px_buy_4: было 11373350000.0, стало 11392.74\n",
      "px_buy_5: было 11373010000.0, стало 11392.52\n",
      "px_buy_6: было 11373000000.0, стало 11392.08\n",
      "px_buy_7: было 11372610000.0, стало 11392.06\n",
      "px_buy_8: было 11372410000.0, стало 11392.04\n",
      "px_buy_10: было 11372280000.0, стало 11391.97\n",
      "amt_buy_8: было 1000000000.0, стало 49.498\n"
     ]
    }
   ],
   "source": [
    "for column in columns_to_check:\n",
    "    if column in df_clean.columns:\n",
    "        original_max = df_out_outliers_3[column].max()\n",
    "        new_max = df_clean[column].max()\n",
    "        print(f\"{column}: было {original_max}, стало {new_max}\")"
   ]
  },
  {
   "cell_type": "code",
   "execution_count": 70,
   "id": "dcfd1bf1",
   "metadata": {},
   "outputs": [],
   "source": [
    "df_out_outliers_4 = df_clean"
   ]
  },
  {
   "cell_type": "markdown",
   "id": "ab5af134",
   "metadata": {},
   "source": [
    "Удалим минимумы в 2 столбцах 'px_buy_1', 'px_buy_9'"
   ]
  },
  {
   "cell_type": "code",
   "execution_count": 71,
   "id": "3cea313c",
   "metadata": {},
   "outputs": [
    {
     "name": "stdout",
     "output_type": "stream",
     "text": [
      "Было строк: 40269\n",
      "Удалено строк с минимумами: 2\n",
      "Осталось строк: 40267\n"
     ]
    }
   ],
   "source": [
    "columns_to_check_1 = [\n",
    "    'px_buy_1', 'px_buy_9'\n",
    "]\n",
    "\n",
    "# Создаем маску для строк, которые нужно удалить\n",
    "mask = pd.Series(False, index=df_out_outliers_4.index)\n",
    "\n",
    "for column in columns_to_check_1:\n",
    "    if column in df_out_outliers_4.columns:\n",
    "        max_value = df_out_outliers_4[column].min()\n",
    "        # Добавляем в маску строки с максимальным значением в текущем столбце\n",
    "        mask = mask | (df_out_outliers_4[column] == max_value)\n",
    "\n",
    "# Удаляем строки, где есть хотя бы одно минимальное значение\n",
    "df_clean_1 = df_out_outliers_4[~mask]\n",
    "\n",
    "print(f\"Было строк: {len(df_out_outliers_4)}\")\n",
    "print(f\"Удалено строк с минимумами: {mask.sum()}\")\n",
    "print(f\"Осталось строк: {len(df_clean_1)}\")"
   ]
  },
  {
   "cell_type": "markdown",
   "id": "9e69fd1c",
   "metadata": {},
   "source": [
    "проверка"
   ]
  },
  {
   "cell_type": "code",
   "execution_count": 72,
   "id": "df9dfb73",
   "metadata": {},
   "outputs": [
    {
     "name": "stdout",
     "output_type": "stream",
     "text": [
      "px_buy_1: было 0.0, стало 11293.2\n",
      "px_buy_9: было -11384.15, стало 11292.83\n"
     ]
    }
   ],
   "source": [
    "for column in columns_to_check_1:\n",
    "    if column in df_clean_1.columns:\n",
    "        original_max = df_out_outliers_4[column].min()\n",
    "        new_max = df_clean_1[column].min()\n",
    "        print(f\"{column}: было {original_max}, стало {new_max}\")"
   ]
  },
  {
   "cell_type": "code",
   "execution_count": 73,
   "id": "2b9580f0",
   "metadata": {},
   "outputs": [],
   "source": [
    "df_out_outliers_5 = df_clean_1"
   ]
  },
  {
   "cell_type": "code",
   "execution_count": 74,
   "id": "863702d4",
   "metadata": {},
   "outputs": [
    {
     "name": "stdout",
     "output_type": "stream",
     "text": [
      "Топ-10 столбцов по выбросам:\n",
      "trade_amt: 10118 выбросов\n",
      "trade_cnt: 3931 выбросов\n",
      "amt_sell_4: 35 выбросов\n",
      "amt_sell_3: 29 выбросов\n",
      "amt_buy_2: 25 выбросов\n",
      "amt_buy_3: 25 выбросов\n",
      "amt_buy_4: 19 выбросов\n",
      "amt_sell_2: 15 выбросов\n",
      "amt_sell_5: 15 выбросов\n",
      "amt_sell_10: 15 выбросов\n",
      "amt_buy_5: 14 выбросов\n",
      "amt_sell_6: 13 выбросов\n",
      "amt_buy_6: 9 выбросов\n",
      "amt_buy_10: 6 выбросов\n",
      "amt_buy_7: 3 выбросов\n",
      "amt_sell_7: 2 выбросов\n",
      "amt_sell_9: 2 выбросов\n",
      "amt_buy_9: 1 выбросов\n",
      "amt_sell_8: 1 выбросов\n",
      "type: 0 выбросов\n"
     ]
    }
   ],
   "source": [
    "outliers_by_column = {}\n",
    "for col in df_out_outliers_5.select_dtypes(include=[np.number]).columns:\n",
    "    Q1 = df_out_outliers_5[col].quantile(0.25)\n",
    "    Q3 = df_out_outliers_5[col].quantile(0.75)\n",
    "    IQR = Q3 - Q1\n",
    "    outliers = len(df_out_outliers_5[col][(df_out_outliers_5[col] < Q1 - 50*IQR) | (df_out_outliers_5[col] > Q3 + 50*IQR)])\n",
    "    outliers_by_column[col] = outliers\n",
    "\n",
    "# Топ-5 проблемных столбцов\n",
    "top_columns = sorted(outliers_by_column.items(), key=lambda x: x[1], reverse=True)[:20]                                                     \n",
    "print(\"Топ-10 столбцов по выбросам:\")\n",
    "for col, count in top_columns:\n",
    "    print(f\"{col}: {count} выбросов\")"
   ]
  },
  {
   "cell_type": "code",
   "execution_count": 75,
   "id": "d2b3e417",
   "metadata": {},
   "outputs": [
    {
     "data": {
      "image/png": "[encoded data removed]",
      "text/plain": [
       "<Figure size 2000x1000 with 1 Axes>"
      ]
     },
     "metadata": {},
     "output_type": "display_data"
    }
   ],
   "source": [
    "columns_to_plot = ['amt_sell_9', 'amt_buy_7', \n",
    "                   'amt_buy_9', 'amt_sell_7',  \n",
    "                   'amt_sell_8']\n",
    "\n",
    "plt.figure(figsize=(20, 10))\n",
    "df_out_outliers_5[columns_to_plot].boxplot(patch_artist=True)\n",
    "plt.xticks(rotation=45)\n",
    "plt.title('Boxplots для торговых столбцов')\n",
    "plt.ylabel('Значения')\n",
    "plt.show()"
   ]
  },
  {
   "cell_type": "markdown",
   "id": "9c6aa70b",
   "metadata": {},
   "source": [
    "Все нормально"
   ]
  },
  {
   "cell_type": "markdown",
   "id": "e2205bc1",
   "metadata": {},
   "source": [
    "Еще проверка"
   ]
  },
  {
   "cell_type": "code",
   "execution_count": 76,
   "id": "5a49b524",
   "metadata": {},
   "outputs": [
    {
     "name": "stdout",
     "output_type": "stream",
     "text": [
      "Среднее: 1.367\n",
      "Минимум: -1.007\n",
      "Максимум: 60.319\n",
      "Разница с минимум: 2.374\n",
      "Разница с макисмумом: -58.952\n"
     ]
    }
   ],
   "source": [
    "mean_value = df_out_outliers_5['amt_buy_7'].mean()   # Среднее\n",
    "min_value = df_out_outliers_5['amt_buy_7'].min()     # Минимум\n",
    "max_value = df_out_outliers_5['amt_buy_7'].max()\n",
    "# Разница\n",
    "difference = mean_value - min_value\n",
    "difference_m = mean_value - max_value\n",
    "print(\"Среднее:\", round(mean_value, 3))\n",
    "print(\"Минимум:\", round(min_value, 3))\n",
    "print(\"Максимум:\", round(max_value, 3))\n",
    "print(\"Разница с минимум:\", round(difference, 3))\n",
    "print(\"Разница с макисмумом:\", round(difference_m, 3))"
   ]
  },
  {
   "cell_type": "markdown",
   "id": "85cd145b",
   "metadata": {},
   "source": [
    "Распределение"
   ]
  },
  {
   "cell_type": "code",
   "execution_count": 77,
   "id": "ade1ec62",
   "metadata": {},
   "outputs": [
    {
     "data": {
      "image/png": "[encoded data removed]",
      "text/plain": [
       "<Figure size 1200x600 with 1 Axes>"
      ]
     },
     "metadata": {},
     "output_type": "display_data"
    }
   ],
   "source": [
    "plt.figure(figsize=(12, 6))\n",
    "sns.histplot(data=df_out_outliers_3, x='trade_amt', kde=True, bins=50, color='skyblue')\n",
    "plt.title('Распределение')\n",
    "plt.xlabel('Сумма платежей')\n",
    "plt.ylabel('Игроки')\n",
    "plt.grid(alpha=0.3)\n",
    "plt.show()"
   ]
  },
  {
   "cell_type": "code",
   "execution_count": 78,
   "id": "958562bb",
   "metadata": {},
   "outputs": [
    {
     "data": {
      "image/png": "[encoded data removed]",
      "text/plain": [
       "<Figure size 2000x1000 with 1 Axes>"
      ]
     },
     "metadata": {},
     "output_type": "display_data"
    }
   ],
   "source": [
    "plt.figure(figsize=(20, 10))\n",
    "sns.histplot(data=df_out_outliers_3, x='amt_buy_2', kde=True, bins=50, color='skyblue')\n",
    "plt.title('Распределение')\n",
    "plt.xlabel('Сумма платежей')\n",
    "plt.ylabel('Игроки')\n",
    "plt.grid(alpha=0.3)\n",
    "plt.show()"
   ]
  },
  {
   "cell_type": "code",
   "execution_count": 79,
   "id": "b442fd06",
   "metadata": {},
   "outputs": [
    {
     "data": {
      "image/png": "[encoded data removed]",
      "text/plain": [
       "<Figure size 800x600 with 1 Axes>"
      ]
     },
     "metadata": {},
     "output_type": "display_data"
    }
   ],
   "source": [
    "plt.figure(figsize=(8, 6))\n",
    "df_out_outliers_3['amt_sell_10'].plot.box(\n",
    "    patch_artist=True,\n",
    "    boxprops=dict(facecolor='lightgreen')  # только зеленый цвет\n",
    ")\n",
    "plt.ylabel('by')\n",
    "plt.show()"
   ]
  },
  {
   "cell_type": "code",
   "execution_count": 80,
   "id": "fcc020e6",
   "metadata": {},
   "outputs": [
    {
     "data": {
      "text/plain": [
       "41364     0.002\n",
       "41365    22.000\n",
       "41366    22.000\n",
       "41367    22.000\n",
       "41368    22.000\n",
       "41369    22.000\n",
       "41370     0.449\n",
       "41371     0.449\n",
       "41372     0.449\n",
       "41373     0.449\n",
       "Name: amt_sell_8, dtype: float64"
      ]
     },
     "execution_count": 80,
     "metadata": {},
     "output_type": "execute_result"
    }
   ],
   "source": [
    "df_out_outliers_3.amt_sell_8.tail(10)"
   ]
  },
  {
   "cell_type": "code",
   "execution_count": 81,
   "id": "caae588f",
   "metadata": {},
   "outputs": [
    {
     "name": "stdout",
     "output_type": "stream",
     "text": [
      "Среднее: 313737.563\n",
      "Минимум: -14.2\n",
      "Максимум: 12634000000.0\n",
      "Разница с минимум: 313751.763\n",
      "Разница с макисмумом: -12633686262.437\n"
     ]
    }
   ],
   "source": [
    "mean_value = df_out_outliers_3['amt_buy_1'].mean()   # Среднее\n",
    "min_value = df_out_outliers_3['amt_buy_1'].min()     # Минимум\n",
    "max_value = df_out_outliers_3['amt_buy_1'].max()\n",
    "# Разница\n",
    "difference = mean_value - min_value\n",
    "difference_m = mean_value - max_value\n",
    "print(\"Среднее:\", round(mean_value, 3))\n",
    "print(\"Минимум:\", round(min_value, 3))\n",
    "print(\"Максимум:\", round(max_value, 3))\n",
    "print(\"Разница с минимум:\", round(difference, 3))\n",
    "print(\"Разница с макисмумом:\", round(difference_m, 3))"
   ]
  },
  {
   "cell_type": "code",
   "execution_count": 82,
   "id": "6890f846",
   "metadata": {},
   "outputs": [
    {
     "data": {
      "text/html": [
       "<div>\n",
       "<style scoped>\n",
       "    .dataframe tbody tr th:only-of-type {\n",
       "        vertical-align: middle;\n",
       "    }\n",
       "\n",
       "    .dataframe tbody tr th {\n",
       "        vertical-align: top;\n",
       "    }\n",
       "\n",
       "    .dataframe thead th {\n",
       "        text-align: right;\n",
       "    }\n",
       "</style>\n",
       "<table border=\"1\" class=\"dataframe\">\n",
       "  <thead>\n",
       "    <tr style=\"text-align: right;\">\n",
       "      <th></th>\n",
       "      <th>type</th>\n",
       "      <th>msgSeqNum</th>\n",
       "      <th>exchHostTime</th>\n",
       "      <th>adapterTime</th>\n",
       "      <th>px_buy_1</th>\n",
       "      <th>amt_buy_1</th>\n",
       "      <th>px_buy_2</th>\n",
       "      <th>amt_buy_2</th>\n",
       "      <th>px_buy_3</th>\n",
       "      <th>amt_buy_3</th>\n",
       "      <th>...</th>\n",
       "      <th>amt_sell_7</th>\n",
       "      <th>px_sell_8</th>\n",
       "      <th>amt_sell_8</th>\n",
       "      <th>px_sell_9</th>\n",
       "      <th>amt_sell_9</th>\n",
       "      <th>px_sell_10</th>\n",
       "      <th>amt_sell_10</th>\n",
       "      <th>trade_px</th>\n",
       "      <th>trade_amt</th>\n",
       "      <th>trade_cnt</th>\n",
       "    </tr>\n",
       "  </thead>\n",
       "  <tbody>\n",
       "    <tr>\n",
       "      <th>1000</th>\n",
       "      <td>4</td>\n",
       "      <td>173525833</td>\n",
       "      <td>1596240037000000000</td>\n",
       "      <td>1596240037431704679</td>\n",
       "      <td>11357.99</td>\n",
       "      <td>20.199</td>\n",
       "      <td>11357.67</td>\n",
       "      <td>0.169</td>\n",
       "      <td>11357.50</td>\n",
       "      <td>0.062</td>\n",
       "      <td>...</td>\n",
       "      <td>0.001</td>\n",
       "      <td>11358.82</td>\n",
       "      <td>0.001</td>\n",
       "      <td>12494.70</td>\n",
       "      <td>0.063</td>\n",
       "      <td>13744.17</td>\n",
       "      <td>0.111</td>\n",
       "      <td>11358.25</td>\n",
       "      <td>0.175</td>\n",
       "      <td>0</td>\n",
       "    </tr>\n",
       "    <tr>\n",
       "      <th>1001</th>\n",
       "      <td>4</td>\n",
       "      <td>173525834</td>\n",
       "      <td>1596240037000000000</td>\n",
       "      <td>1596240037431749155</td>\n",
       "      <td>11357.99</td>\n",
       "      <td>20.199</td>\n",
       "      <td>11357.67</td>\n",
       "      <td>0.169</td>\n",
       "      <td>11357.50</td>\n",
       "      <td>0.062</td>\n",
       "      <td>...</td>\n",
       "      <td>0.001</td>\n",
       "      <td>11358.82</td>\n",
       "      <td>0.001</td>\n",
       "      <td>12494.70</td>\n",
       "      <td>0.063</td>\n",
       "      <td>13744.17</td>\n",
       "      <td>0.111</td>\n",
       "      <td>11358.26</td>\n",
       "      <td>2.000</td>\n",
       "      <td>0</td>\n",
       "    </tr>\n",
       "    <tr>\n",
       "      <th>1002</th>\n",
       "      <td>4</td>\n",
       "      <td>122537841</td>\n",
       "      <td>1596240037000000000</td>\n",
       "      <td>1596240037431776197</td>\n",
       "      <td>11357.99</td>\n",
       "      <td>20.199</td>\n",
       "      <td>11357.67</td>\n",
       "      <td>0.169</td>\n",
       "      <td>11357.50</td>\n",
       "      <td>0.062</td>\n",
       "      <td>...</td>\n",
       "      <td>0.001</td>\n",
       "      <td>11358.82</td>\n",
       "      <td>0.001</td>\n",
       "      <td>12494.70</td>\n",
       "      <td>0.063</td>\n",
       "      <td>13744.17</td>\n",
       "      <td>0.111</td>\n",
       "      <td>11358.25</td>\n",
       "      <td>0.175</td>\n",
       "      <td>1</td>\n",
       "    </tr>\n",
       "    <tr>\n",
       "      <th>1003</th>\n",
       "      <td>4</td>\n",
       "      <td>122537842</td>\n",
       "      <td>1596240037000000000</td>\n",
       "      <td>1596240037431782097</td>\n",
       "      <td>11357.99</td>\n",
       "      <td>20.199</td>\n",
       "      <td>11357.67</td>\n",
       "      <td>0.169</td>\n",
       "      <td>11357.50</td>\n",
       "      <td>0.062</td>\n",
       "      <td>...</td>\n",
       "      <td>0.001</td>\n",
       "      <td>11358.82</td>\n",
       "      <td>0.001</td>\n",
       "      <td>12494.70</td>\n",
       "      <td>0.063</td>\n",
       "      <td>13744.17</td>\n",
       "      <td>0.111</td>\n",
       "      <td>11358.26</td>\n",
       "      <td>2.000</td>\n",
       "      <td>1</td>\n",
       "    </tr>\n",
       "    <tr>\n",
       "      <th>1004</th>\n",
       "      <td>4</td>\n",
       "      <td>173525835</td>\n",
       "      <td>1596240037000000000</td>\n",
       "      <td>1596240037431794710</td>\n",
       "      <td>11357.99</td>\n",
       "      <td>20.199</td>\n",
       "      <td>11357.67</td>\n",
       "      <td>0.169</td>\n",
       "      <td>11357.50</td>\n",
       "      <td>0.062</td>\n",
       "      <td>...</td>\n",
       "      <td>0.001</td>\n",
       "      <td>11358.82</td>\n",
       "      <td>0.001</td>\n",
       "      <td>12494.70</td>\n",
       "      <td>0.063</td>\n",
       "      <td>13744.17</td>\n",
       "      <td>0.111</td>\n",
       "      <td>11358.33</td>\n",
       "      <td>0.004</td>\n",
       "      <td>0</td>\n",
       "    </tr>\n",
       "    <tr>\n",
       "      <th>...</th>\n",
       "      <td>...</td>\n",
       "      <td>...</td>\n",
       "      <td>...</td>\n",
       "      <td>...</td>\n",
       "      <td>...</td>\n",
       "      <td>...</td>\n",
       "      <td>...</td>\n",
       "      <td>...</td>\n",
       "      <td>...</td>\n",
       "      <td>...</td>\n",
       "      <td>...</td>\n",
       "      <td>...</td>\n",
       "      <td>...</td>\n",
       "      <td>...</td>\n",
       "      <td>...</td>\n",
       "      <td>...</td>\n",
       "      <td>...</td>\n",
       "      <td>...</td>\n",
       "      <td>...</td>\n",
       "      <td>...</td>\n",
       "      <td>...</td>\n",
       "    </tr>\n",
       "    <tr>\n",
       "      <th>41369</th>\n",
       "      <td>6</td>\n",
       "      <td>45258026841</td>\n",
       "      <td>1596241406000000000</td>\n",
       "      <td>1596241406563025313</td>\n",
       "      <td>11308.23</td>\n",
       "      <td>0.480</td>\n",
       "      <td>11307.86</td>\n",
       "      <td>1.009</td>\n",
       "      <td>11307.85</td>\n",
       "      <td>0.240</td>\n",
       "      <td>...</td>\n",
       "      <td>0.002</td>\n",
       "      <td>11309.87</td>\n",
       "      <td>22.000</td>\n",
       "      <td>12440.86</td>\n",
       "      <td>0.449</td>\n",
       "      <td>13684.95</td>\n",
       "      <td>1.004</td>\n",
       "      <td>0.00</td>\n",
       "      <td>0.000</td>\n",
       "      <td>0</td>\n",
       "    </tr>\n",
       "    <tr>\n",
       "      <th>41370</th>\n",
       "      <td>6</td>\n",
       "      <td>45258026853</td>\n",
       "      <td>1596241406000000000</td>\n",
       "      <td>1596241406565277457</td>\n",
       "      <td>11308.23</td>\n",
       "      <td>6.480</td>\n",
       "      <td>11307.86</td>\n",
       "      <td>1.009</td>\n",
       "      <td>11307.85</td>\n",
       "      <td>0.240</td>\n",
       "      <td>...</td>\n",
       "      <td>22.000</td>\n",
       "      <td>11309.90</td>\n",
       "      <td>0.449</td>\n",
       "      <td>12440.89</td>\n",
       "      <td>1.004</td>\n",
       "      <td>13684.98</td>\n",
       "      <td>5.265</td>\n",
       "      <td>0.00</td>\n",
       "      <td>0.000</td>\n",
       "      <td>0</td>\n",
       "    </tr>\n",
       "    <tr>\n",
       "      <th>41371</th>\n",
       "      <td>6</td>\n",
       "      <td>45258026878</td>\n",
       "      <td>1596241406000000000</td>\n",
       "      <td>1596241406567760680</td>\n",
       "      <td>11308.23</td>\n",
       "      <td>6.480</td>\n",
       "      <td>11307.85</td>\n",
       "      <td>0.240</td>\n",
       "      <td>11307.84</td>\n",
       "      <td>8.250</td>\n",
       "      <td>...</td>\n",
       "      <td>22.000</td>\n",
       "      <td>11309.90</td>\n",
       "      <td>0.449</td>\n",
       "      <td>12440.89</td>\n",
       "      <td>1.004</td>\n",
       "      <td>13684.98</td>\n",
       "      <td>5.265</td>\n",
       "      <td>0.00</td>\n",
       "      <td>0.000</td>\n",
       "      <td>0</td>\n",
       "    </tr>\n",
       "    <tr>\n",
       "      <th>41372</th>\n",
       "      <td>6</td>\n",
       "      <td>45258026892</td>\n",
       "      <td>1596241406000000000</td>\n",
       "      <td>1596241406570122673</td>\n",
       "      <td>11308.23</td>\n",
       "      <td>0.480</td>\n",
       "      <td>11307.85</td>\n",
       "      <td>0.240</td>\n",
       "      <td>11307.84</td>\n",
       "      <td>8.250</td>\n",
       "      <td>...</td>\n",
       "      <td>22.000</td>\n",
       "      <td>11309.90</td>\n",
       "      <td>0.449</td>\n",
       "      <td>12440.89</td>\n",
       "      <td>1.004</td>\n",
       "      <td>13684.98</td>\n",
       "      <td>5.265</td>\n",
       "      <td>0.00</td>\n",
       "      <td>0.000</td>\n",
       "      <td>0</td>\n",
       "    </tr>\n",
       "    <tr>\n",
       "      <th>41373</th>\n",
       "      <td>4</td>\n",
       "      <td>173543213</td>\n",
       "      <td>1596241406000000000</td>\n",
       "      <td>1596241406572315551</td>\n",
       "      <td>11308.23</td>\n",
       "      <td>0.480</td>\n",
       "      <td>11307.85</td>\n",
       "      <td>0.240</td>\n",
       "      <td>11307.84</td>\n",
       "      <td>8.250</td>\n",
       "      <td>...</td>\n",
       "      <td>22.000</td>\n",
       "      <td>11309.90</td>\n",
       "      <td>0.449</td>\n",
       "      <td>12440.89</td>\n",
       "      <td>1.004</td>\n",
       "      <td>13684.98</td>\n",
       "      <td>5.265</td>\n",
       "      <td>11308.61</td>\n",
       "      <td>-0.085</td>\n",
       "      <td>0</td>\n",
       "    </tr>\n",
       "  </tbody>\n",
       "</table>\n",
       "<p>40271 rows × 47 columns</p>\n",
       "</div>"
      ],
      "text/plain": [
       "       type    msgSeqNum         exchHostTime          adapterTime  px_buy_1  \\\n",
       "1000      4    173525833  1596240037000000000  1596240037431704679  11357.99   \n",
       "1001      4    173525834  1596240037000000000  1596240037431749155  11357.99   \n",
       "1002      4    122537841  1596240037000000000  1596240037431776197  11357.99   \n",
       "1003      4    122537842  1596240037000000000  1596240037431782097  11357.99   \n",
       "1004      4    173525835  1596240037000000000  1596240037431794710  11357.99   \n",
       "...     ...          ...                  ...                  ...       ...   \n",
       "41369     6  45258026841  1596241406000000000  1596241406563025313  11308.23   \n",
       "41370     6  45258026853  1596241406000000000  1596241406565277457  11308.23   \n",
       "41371     6  45258026878  1596241406000000000  1596241406567760680  11308.23   \n",
       "41372     6  45258026892  1596241406000000000  1596241406570122673  11308.23   \n",
       "41373     4    173543213  1596241406000000000  1596241406572315551  11308.23   \n",
       "\n",
       "       amt_buy_1  px_buy_2  amt_buy_2  px_buy_3  amt_buy_3  ...  amt_sell_7  \\\n",
       "1000      20.199  11357.67      0.169  11357.50      0.062  ...       0.001   \n",
       "1001      20.199  11357.67      0.169  11357.50      0.062  ...       0.001   \n",
       "1002      20.199  11357.67      0.169  11357.50      0.062  ...       0.001   \n",
       "1003      20.199  11357.67      0.169  11357.50      0.062  ...       0.001   \n",
       "1004      20.199  11357.67      0.169  11357.50      0.062  ...       0.001   \n",
       "...          ...       ...        ...       ...        ...  ...         ...   \n",
       "41369      0.480  11307.86      1.009  11307.85      0.240  ...       0.002   \n",
       "41370      6.480  11307.86      1.009  11307.85      0.240  ...      22.000   \n",
       "41371      6.480  11307.85      0.240  11307.84      8.250  ...      22.000   \n",
       "41372      0.480  11307.85      0.240  11307.84      8.250  ...      22.000   \n",
       "41373      0.480  11307.85      0.240  11307.84      8.250  ...      22.000   \n",
       "\n",
       "       px_sell_8  amt_sell_8  px_sell_9  amt_sell_9  px_sell_10  amt_sell_10  \\\n",
       "1000    11358.82       0.001   12494.70       0.063    13744.17        0.111   \n",
       "1001    11358.82       0.001   12494.70       0.063    13744.17        0.111   \n",
       "1002    11358.82       0.001   12494.70       0.063    13744.17        0.111   \n",
       "1003    11358.82       0.001   12494.70       0.063    13744.17        0.111   \n",
       "1004    11358.82       0.001   12494.70       0.063    13744.17        0.111   \n",
       "...          ...         ...        ...         ...         ...          ...   \n",
       "41369   11309.87      22.000   12440.86       0.449    13684.95        1.004   \n",
       "41370   11309.90       0.449   12440.89       1.004    13684.98        5.265   \n",
       "41371   11309.90       0.449   12440.89       1.004    13684.98        5.265   \n",
       "41372   11309.90       0.449   12440.89       1.004    13684.98        5.265   \n",
       "41373   11309.90       0.449   12440.89       1.004    13684.98        5.265   \n",
       "\n",
       "       trade_px  trade_amt  trade_cnt  \n",
       "1000   11358.25      0.175          0  \n",
       "1001   11358.26      2.000          0  \n",
       "1002   11358.25      0.175          1  \n",
       "1003   11358.26      2.000          1  \n",
       "1004   11358.33      0.004          0  \n",
       "...         ...        ...        ...  \n",
       "41369      0.00      0.000          0  \n",
       "41370      0.00      0.000          0  \n",
       "41371      0.00      0.000          0  \n",
       "41372      0.00      0.000          0  \n",
       "41373  11308.61     -0.085          0  \n",
       "\n",
       "[40271 rows x 47 columns]"
      ]
     },
     "execution_count": 82,
     "metadata": {},
     "output_type": "execute_result"
    }
   ],
   "source": [
    "df_out_outliers_3"
   ]
  },
  {
   "cell_type": "code",
   "execution_count": 83,
   "id": "f33bac09",
   "metadata": {},
   "outputs": [],
   "source": [
    "Q1 = df_out_outliers_3.quantile(0.25)\n",
    "Q3 = df_out_outliers_3.quantile(0.75)\n",
    "IQR = Q3 - Q1\n",
    "outliers = ((df_out_outliers_3 < (Q1 - 1.5 * IQR)) | (df_out_outliers_3 > (Q3 + 1.5 * IQR)))\n"
   ]
  },
  {
   "cell_type": "code",
   "execution_count": 84,
   "id": "5d144e32",
   "metadata": {},
   "outputs": [
    {
     "data": {
      "image/png": "[encoded data removed]",
      "text/plain": [
       "<Figure size 2000x1000 with 1 Axes>"
      ]
     },
     "metadata": {},
     "output_type": "display_data"
    }
   ],
   "source": [
    "plt.figure(figsize=(20, 10))\n",
    "sns.histplot(data=df_out_outliers_5, x='amt_buy_2', kde=True, bins=50, color='skyblue')\n",
    "plt.title('Распределение')\n",
    "plt.xlabel('Сумма платежей')\n",
    "plt.ylabel('Игроки')\n",
    "plt.grid(alpha=0.3)\n",
    "plt.show()"
   ]
  },
  {
   "cell_type": "markdown",
   "id": "2aedd217",
   "metadata": {},
   "source": [
    "Если значения не могут быть отрицательные в колнках By  и sell"
   ]
  },
  {
   "cell_type": "code",
   "execution_count": 89,
   "id": "2f8fc8ea",
   "metadata": {},
   "outputs": [
    {
     "name": "stdout",
     "output_type": "stream",
     "text": [
      "Количество отрицательных значений в стакане:\n",
      " px_buy_1: 0 отрицательных значений\n",
      "  amt_buy_1: 1 отрицательных значений\n",
      " px_buy_2: 0 отрицательных значений\n",
      "  amt_buy_2: 1 отрицательных значений\n",
      " px_buy_3: 0 отрицательных значений\n",
      "  amt_buy_3: 1 отрицательных значений\n",
      " px_buy_4: 0 отрицательных значений\n",
      "  amt_buy_4: 1 отрицательных значений\n",
      " px_buy_5: 0 отрицательных значений\n",
      "  amt_buy_5: 1 отрицательных значений\n",
      " px_buy_6: 0 отрицательных значений\n",
      "  amt_buy_6: 1 отрицательных значений\n",
      " px_buy_7: 0 отрицательных значений\n",
      "  amt_buy_7: 1 отрицательных значений\n",
      " px_buy_8: 0 отрицательных значений\n",
      "  amt_buy_8: 1 отрицательных значений\n",
      " px_buy_9: 0 отрицательных значений\n",
      "  amt_buy_9: 1 отрицательных значений\n",
      " px_buy_10: 0 отрицательных значений\n",
      "  amt_buy_10: 1 отрицательных значений\n",
      " px_sell_1: 0 отрицательных значений\n",
      " amt_sell_1: 0 отрицательных значений\n",
      " px_sell_2: 0 отрицательных значений\n",
      " amt_sell_2: 0 отрицательных значений\n",
      " px_sell_3: 0 отрицательных значений\n",
      " amt_sell_3: 0 отрицательных значений\n",
      " px_sell_4: 0 отрицательных значений\n",
      " amt_sell_4: 0 отрицательных значений\n",
      " px_sell_5: 0 отрицательных значений\n",
      " amt_sell_5: 0 отрицательных значений\n",
      " px_sell_6: 0 отрицательных значений\n",
      " amt_sell_6: 0 отрицательных значений\n",
      " px_sell_7: 0 отрицательных значений\n",
      " amt_sell_7: 0 отрицательных значений\n",
      " px_sell_8: 0 отрицательных значений\n",
      "  amt_sell_8: 1 отрицательных значений\n",
      " px_sell_9: 0 отрицательных значений\n",
      " amt_sell_9: 0 отрицательных значений\n",
      " px_sell_10: 0 отрицательных значений\n",
      " amt_sell_10: 0 отрицательных значений\n",
      "\n",
      "Всего отрицательных значений в стакане: 11\n",
      "\n",
      "Проблемные столбцы: ['amt_buy_1', 'amt_buy_2', 'amt_buy_3', 'amt_buy_4', 'amt_buy_5', 'amt_buy_6', 'amt_buy_7', 'amt_buy_8', 'amt_buy_9', 'amt_buy_10', 'amt_sell_8']\n"
     ]
    }
   ],
   "source": [
    "columns_to_check_3 = [\n",
    "    'px_buy_1', 'amt_buy_1', 'px_buy_2', 'amt_buy_2', 'px_buy_3', 'amt_buy_3',\n",
    "    'px_buy_4', 'amt_buy_4', 'px_buy_5', 'amt_buy_5', 'px_buy_6', 'amt_buy_6',\n",
    "    'px_buy_7', 'amt_buy_7', 'px_buy_8', 'amt_buy_8', 'px_buy_9', 'amt_buy_9',\n",
    "    'px_buy_10', 'amt_buy_10', 'px_sell_1', 'amt_sell_1', 'px_sell_2', 'amt_sell_2',\n",
    "    'px_sell_3', 'amt_sell_3', 'px_sell_4', 'amt_sell_4', 'px_sell_5', 'amt_sell_5',\n",
    "    'px_sell_6', 'amt_sell_6', 'px_sell_7', 'amt_sell_7', 'px_sell_8', 'amt_sell_8',\n",
    "    'px_sell_9', 'amt_sell_9', 'px_sell_10', 'amt_sell_10'\n",
    "]\n",
    "\n",
    "# Подсчет отрицательных значений в указанных столбцах\n",
    "negative_counts = (df_out_outliers_5[columns_to_check_3] < 0).sum()\n",
    "\n",
    "# Вывод результатов\n",
    "print(\"Количество отрицательных значений в стакане:\")\n",
    "for column, count in negative_counts.items():\n",
    "    if count > 0:\n",
    "        print(f\"  {column}: {count} отрицательных значений\")\n",
    "    else:\n",
    "        print(f\" {column}: 0 отрицательных значений\")\n",
    "\n",
    "# Общая статистика\n",
    "total_negative = negative_counts.sum()\n",
    "print(f\"\\nВсего отрицательных значений в стакане: {total_negative}\")\n",
    "\n",
    "# Столбцы с проблемами\n",
    "problem_columns = negative_counts[negative_counts > 0]\n",
    "if len(problem_columns) > 0:\n",
    "    print(f\"\\nПроблемные столбцы: {list(problem_columns.index)}\")\n",
    "else:\n",
    "    print(\"\\nВсе данные в стакане корректны!\")"
   ]
  },
  {
   "cell_type": "code",
   "execution_count": 90,
   "id": "c6643e61",
   "metadata": {},
   "outputs": [
    {
     "name": "stdout",
     "output_type": "stream",
     "text": [
      "Количество отрицательных значений в стакане:\n",
      " px_buy_1: 0 отрицательных значений\n",
      "  amt_buy_1: 1 отрицательных значений\n",
      " px_buy_2: 0 отрицательных значений\n",
      "  amt_buy_2: 1 отрицательных значений\n",
      " px_buy_3: 0 отрицательных значений\n",
      "  amt_buy_3: 1 отрицательных значений\n",
      " px_buy_4: 0 отрицательных значений\n",
      "  amt_buy_4: 1 отрицательных значений\n",
      " px_buy_5: 0 отрицательных значений\n",
      "  amt_buy_5: 1 отрицательных значений\n",
      " px_buy_6: 0 отрицательных значений\n",
      "  amt_buy_6: 1 отрицательных значений\n",
      " px_buy_7: 0 отрицательных значений\n",
      "  amt_buy_7: 1 отрицательных значений\n",
      " px_buy_8: 0 отрицательных значений\n",
      "  amt_buy_8: 1 отрицательных значений\n",
      " px_buy_9: 0 отрицательных значений\n",
      "  amt_buy_9: 1 отрицательных значений\n",
      " px_buy_10: 0 отрицательных значений\n",
      "  amt_buy_10: 1 отрицательных значений\n",
      " px_sell_1: 0 отрицательных значений\n",
      " amt_sell_1: 0 отрицательных значений\n",
      " px_sell_2: 0 отрицательных значений\n",
      " amt_sell_2: 0 отрицательных значений\n",
      " px_sell_3: 0 отрицательных значений\n",
      " amt_sell_3: 0 отрицательных значений\n",
      " px_sell_4: 0 отрицательных значений\n",
      " amt_sell_4: 0 отрицательных значений\n",
      " px_sell_5: 0 отрицательных значений\n",
      " amt_sell_5: 0 отрицательных значений\n",
      " px_sell_6: 0 отрицательных значений\n",
      " amt_sell_6: 0 отрицательных значений\n",
      " px_sell_7: 0 отрицательных значений\n",
      " amt_sell_7: 0 отрицательных значений\n",
      " px_sell_8: 0 отрицательных значений\n",
      "  amt_sell_8: 1 отрицательных значений\n",
      " px_sell_9: 0 отрицательных значений\n",
      " amt_sell_9: 0 отрицательных значений\n",
      " px_sell_10: 0 отрицательных значений\n",
      " amt_sell_10: 0 отрицательных значений\n",
      "\n",
      " Всего отрицательных значений в стакане: 11\n",
      "\n",
      " Проблемные столбцы: ['amt_buy_1', 'amt_buy_2', 'amt_buy_3', 'amt_buy_4', 'amt_buy_5', 'amt_buy_6', 'amt_buy_7', 'amt_buy_8', 'amt_buy_9', 'amt_buy_10', 'amt_sell_8']\n"
     ]
    }
   ],
   "source": [
    "columns_to_check_3 = [\n",
    "    'px_buy_1', 'amt_buy_1', 'px_buy_2', 'amt_buy_2', 'px_buy_3', 'amt_buy_3',\n",
    "    'px_buy_4', 'amt_buy_4', 'px_buy_5', 'amt_buy_5', 'px_buy_6', 'amt_buy_6',\n",
    "    'px_buy_7', 'amt_buy_7', 'px_buy_8', 'amt_buy_8', 'px_buy_9', 'amt_buy_9',\n",
    "    'px_buy_10', 'amt_buy_10', 'px_sell_1', 'amt_sell_1', 'px_sell_2', 'amt_sell_2',\n",
    "    'px_sell_3', 'amt_sell_3', 'px_sell_4', 'amt_sell_4', 'px_sell_5', 'amt_sell_5',\n",
    "    'px_sell_6', 'amt_sell_6', 'px_sell_7', 'amt_sell_7', 'px_sell_8', 'amt_sell_8',\n",
    "    'px_sell_9', 'amt_sell_9', 'px_sell_10', 'amt_sell_10'\n",
    "]\n",
    "\n",
    "# Подсчет отрицательных значений в указанных столбцах\n",
    "negative_counts = (df_out_outliers_5[columns_to_check_3] < 0).sum()\n",
    "\n",
    "# Вывод результатов\n",
    "print(\"Количество отрицательных значений в стакане:\")\n",
    "for column, count in negative_counts.items():\n",
    "    if count > 0:\n",
    "        print(f\"  {column}: {count} отрицательных значений\")\n",
    "    else:\n",
    "        print(f\" {column}: 0 отрицательных значений\")\n",
    "\n",
    "# Общая статистика\n",
    "total_negative = negative_counts.sum()\n",
    "print(f\"\\n Всего отрицательных значений в стакане: {total_negative}\")\n",
    "\n",
    "# Столбцы с проблемами\n",
    "problem_columns = negative_counts[negative_counts > 0]\n",
    "if len(problem_columns) > 0:\n",
    "    print(f\"\\n Проблемные столбцы: {list(problem_columns.index)}\")\n",
    "else:\n",
    "    print(f\"\\n Все данные в стакане корректны!\")"
   ]
  },
  {
   "cell_type": "markdown",
   "id": "59cfeec5",
   "metadata": {},
   "source": [
    "### Отрицательные значения"
   ]
  },
  {
   "cell_type": "code",
   "execution_count": 91,
   "id": "4514d209",
   "metadata": {},
   "outputs": [
    {
     "name": "stdout",
     "output_type": "stream",
     "text": [
      "Найдено строк с отрицательными значениями: 2\n",
      "\n",
      "Строки с отрицательными значениями:\n"
     ]
    },
    {
     "data": {
      "text/html": [
       "<div>\n",
       "<style scoped>\n",
       "    .dataframe tbody tr th:only-of-type {\n",
       "        vertical-align: middle;\n",
       "    }\n",
       "\n",
       "    .dataframe tbody tr th {\n",
       "        vertical-align: top;\n",
       "    }\n",
       "\n",
       "    .dataframe thead th {\n",
       "        text-align: right;\n",
       "    }\n",
       "</style>\n",
       "<table border=\"1\" class=\"dataframe\">\n",
       "  <thead>\n",
       "    <tr style=\"text-align: right;\">\n",
       "      <th></th>\n",
       "      <th>type</th>\n",
       "      <th>msgSeqNum</th>\n",
       "      <th>exchHostTime</th>\n",
       "      <th>adapterTime</th>\n",
       "      <th>px_buy_1</th>\n",
       "      <th>amt_buy_1</th>\n",
       "      <th>px_buy_2</th>\n",
       "      <th>amt_buy_2</th>\n",
       "      <th>px_buy_3</th>\n",
       "      <th>amt_buy_3</th>\n",
       "      <th>...</th>\n",
       "      <th>amt_sell_7</th>\n",
       "      <th>px_sell_8</th>\n",
       "      <th>amt_sell_8</th>\n",
       "      <th>px_sell_9</th>\n",
       "      <th>amt_sell_9</th>\n",
       "      <th>px_sell_10</th>\n",
       "      <th>amt_sell_10</th>\n",
       "      <th>trade_px</th>\n",
       "      <th>trade_amt</th>\n",
       "      <th>trade_cnt</th>\n",
       "    </tr>\n",
       "  </thead>\n",
       "  <tbody>\n",
       "    <tr>\n",
       "      <th>26017</th>\n",
       "      <td>6</td>\n",
       "      <td>45257421667</td>\n",
       "      <td>1596241239000000000</td>\n",
       "      <td>1596241239424926374</td>\n",
       "      <td>11310.10</td>\n",
       "      <td>0.156</td>\n",
       "      <td>11309.14</td>\n",
       "      <td>0.240</td>\n",
       "      <td>11308.98</td>\n",
       "      <td>0.120</td>\n",
       "      <td>...</td>\n",
       "      <td>6.00</td>\n",
       "      <td>11311.09</td>\n",
       "      <td>-1.000</td>\n",
       "      <td>12442.20</td>\n",
       "      <td>0.145</td>\n",
       "      <td>13686.42</td>\n",
       "      <td>13.1</td>\n",
       "      <td>0.0</td>\n",
       "      <td>0.0</td>\n",
       "      <td>0</td>\n",
       "    </tr>\n",
       "    <tr>\n",
       "      <th>35611</th>\n",
       "      <td>6</td>\n",
       "      <td>45257800536</td>\n",
       "      <td>1596241337000000000</td>\n",
       "      <td>1596241337207772204</td>\n",
       "      <td>11304.34</td>\n",
       "      <td>-14.200</td>\n",
       "      <td>11303.95</td>\n",
       "      <td>-0.444</td>\n",
       "      <td>11303.62</td>\n",
       "      <td>-1.007</td>\n",
       "      <td>...</td>\n",
       "      <td>0.15</td>\n",
       "      <td>11305.96</td>\n",
       "      <td>0.027</td>\n",
       "      <td>12436.56</td>\n",
       "      <td>0.015</td>\n",
       "      <td>13680.22</td>\n",
       "      <td>1.0</td>\n",
       "      <td>0.0</td>\n",
       "      <td>0.0</td>\n",
       "      <td>0</td>\n",
       "    </tr>\n",
       "  </tbody>\n",
       "</table>\n",
       "<p>2 rows × 47 columns</p>\n",
       "</div>"
      ],
      "text/plain": [
       "       type    msgSeqNum         exchHostTime          adapterTime  px_buy_1  \\\n",
       "26017     6  45257421667  1596241239000000000  1596241239424926374  11310.10   \n",
       "35611     6  45257800536  1596241337000000000  1596241337207772204  11304.34   \n",
       "\n",
       "       amt_buy_1  px_buy_2  amt_buy_2  px_buy_3  amt_buy_3  ...  amt_sell_7  \\\n",
       "26017      0.156  11309.14      0.240  11308.98      0.120  ...        6.00   \n",
       "35611    -14.200  11303.95     -0.444  11303.62     -1.007  ...        0.15   \n",
       "\n",
       "       px_sell_8  amt_sell_8  px_sell_9  amt_sell_9  px_sell_10  amt_sell_10  \\\n",
       "26017   11311.09      -1.000   12442.20       0.145    13686.42         13.1   \n",
       "35611   11305.96       0.027   12436.56       0.015    13680.22          1.0   \n",
       "\n",
       "       trade_px  trade_amt  trade_cnt  \n",
       "26017       0.0        0.0          0  \n",
       "35611       0.0        0.0          0  \n",
       "\n",
       "[2 rows x 47 columns]"
      ]
     },
     "metadata": {},
     "output_type": "display_data"
    }
   ],
   "source": [
    "negative_columns = [\n",
    "    'amt_buy_1', 'amt_buy_2', 'amt_buy_3', 'amt_buy_4', 'amt_buy_5', \n",
    "    'amt_buy_6', 'amt_buy_7', 'amt_buy_8', 'amt_buy_9', 'amt_buy_10', 'amt_sell_8'\n",
    "]\n",
    "\n",
    "#  строки с отрицательными значениями\n",
    "negative_mask = (df_out_outliers_5[negative_columns] < 0).any(axis=1)\n",
    "negative_rows_df = df_out_outliers_5[negative_mask]\n",
    "\n",
    "print(f\"Найдено строк с отрицательными значениями: {len(negative_rows_df)}\")\n",
    "print(\"\\nСтроки с отрицательными значениями:\")\n",
    "display(negative_rows_df)  # для Jupyter Notebook\n",
    "\n"
   ]
  },
  {
   "cell_type": "markdown",
   "id": "f8de35b0",
   "metadata": {},
   "source": [
    "удаляю строки"
   ]
  },
  {
   "cell_type": "code",
   "execution_count": 92,
   "id": "2b9998de",
   "metadata": {},
   "outputs": [
    {
     "name": "stdout",
     "output_type": "stream",
     "text": [
      "Было строк: 40267\n",
      "Удалено строк с отрицательными значениями: 2\n",
      "Осталось строк: 40265\n",
      "Остались ли отрицательные значения: False\n"
     ]
    }
   ],
   "source": [
    "negative_columns = [\n",
    "    'amt_buy_1', 'amt_buy_2', 'amt_buy_3', 'amt_buy_4', 'amt_buy_5', \n",
    "    'amt_buy_6', 'amt_buy_7', 'amt_buy_8', 'amt_buy_9', 'amt_buy_10', 'amt_sell_8'\n",
    "]\n",
    "\n",
    "# Создаем маску для строк с отрицательными значениями\n",
    "negative_mask = (df_out_outliers_5[negative_columns] < 0).any(axis=1)\n",
    "\n",
    "# Удаляем эти строки\n",
    "df_clean = df_out_outliers_5[~negative_mask]\n",
    "\n",
    "# Выводим результаты\n",
    "print(f\"Было строк: {len(df_out_outliers_5)}\")\n",
    "print(f\"Удалено строк с отрицательными значениями: {negative_mask.sum()}\")\n",
    "print(f\"Осталось строк: {len(df_clean)}\")\n",
    "\n",
    "# Проверяем, что отрицательных значений больше нет\n",
    "negative_check = (df_clean[negative_columns] < 0).any().any()\n",
    "print(f\"Остались ли отрицательные значения: {negative_check}\")"
   ]
  },
  {
   "cell_type": "code",
   "execution_count": 93,
   "id": "91ef0860",
   "metadata": {},
   "outputs": [
    {
     "name": "stdout",
     "output_type": "stream",
     "text": [
      "Отрицательные значения после очистки:\n",
      "Series([], dtype: int64)\n"
     ]
    }
   ],
   "source": [
    "negative_counts_after = (df_clean[negative_columns] < 0).sum()\n",
    "print(\"Отрицательные значения после очистки:\")\n",
    "print(negative_counts_after[negative_counts_after > 0])"
   ]
  },
  {
   "cell_type": "code",
   "execution_count": 94,
   "id": "01298f20",
   "metadata": {},
   "outputs": [],
   "source": [
    "df_out_outliers_6 = df_clean"
   ]
  },
  {
   "cell_type": "code",
   "execution_count": 95,
   "id": "54454aac",
   "metadata": {},
   "outputs": [
    {
     "name": "stdout",
     "output_type": "stream",
     "text": [
      "Отрицательные значения после очистки:\n",
      "Series([], dtype: int64)\n"
     ]
    }
   ],
   "source": [
    "negative_counts_after = (df_out_outliers_6[negative_columns] < 0).sum()\n",
    "print(\"Отрицательные значения после очистки:\")\n",
    "print(negative_counts_after[negative_counts_after > 0])"
   ]
  },
  {
   "cell_type": "code",
   "execution_count": 96,
   "id": "8daca5b4",
   "metadata": {},
   "outputs": [
    {
     "data": {
      "text/plain": [
       "(40265, 47)"
      ]
     },
     "execution_count": 96,
     "metadata": {},
     "output_type": "execute_result"
    }
   ],
   "source": [
    "df_out_outliers_6.shape"
   ]
  },
  {
   "cell_type": "code",
   "execution_count": 97,
   "id": "2e7307f9",
   "metadata": {},
   "outputs": [
    {
     "data": {
      "text/plain": [
       "(40374, 48)"
      ]
     },
     "execution_count": 97,
     "metadata": {},
     "output_type": "execute_result"
    }
   ],
   "source": [
    "df.shape"
   ]
  },
  {
   "cell_type": "code",
   "execution_count": 98,
   "id": "5c567b79",
   "metadata": {},
   "outputs": [
    {
     "data": {
      "text/plain": [
       "(40265, 47)"
      ]
     },
     "execution_count": 98,
     "metadata": {},
     "output_type": "execute_result"
    }
   ],
   "source": [
    "df_out_outliers_7 = df_out_outliers_6\n",
    "df_out_outliers_7.shape\n"
   ]
  },
  {
   "cell_type": "code",
   "execution_count": 99,
   "id": "97a5683f",
   "metadata": {},
   "outputs": [
    {
     "name": "stdout",
     "output_type": "stream",
     "text": [
      "Файл успешно сохранен с reset_index()\n"
     ]
    }
   ],
   "source": [
    "df_out_outliers_7.reset_index(drop=True).to_feather('df_out_outliers_7.feather')\n",
    "print(\"Файл успешно сохранен с reset_index()\")"
   ]
  }
 ],
 "metadata": {
  "kernelspec": {
   "display_name": "Python 3 (ipykernel)",
   "language": "python",
   "name": "python3"
  },
  "language_info": {
   "codemirror_mode": {
    "name": "ipython",
    "version": 3
   },
   "file_extension": ".py",
   "mimetype": "text/x-python",
   "name": "python",
   "nbconvert_exporter": "python",
   "pygments_lexer": "ipython3",
   "version": "3.11.4"
  }
 },
 "nbformat": 4,
 "nbformat_minor": 5
}
